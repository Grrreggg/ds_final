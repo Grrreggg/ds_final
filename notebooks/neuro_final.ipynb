{
  "cells": [
    {
      "cell_type": "code",
      "execution_count": null,
      "metadata": {
        "id": "moB4tpEHxKB3",
        "colab": {
          "base_uri": "https://localhost:8080/"
        },
        "outputId": "2b8b5f94-144d-4a46-be52-a9120725f9f2"
      },
      "outputs": [
        {
          "output_type": "stream",
          "name": "stdout",
          "text": [
            "Requirement already satisfied: xlrd in /usr/local/lib/python3.7/dist-packages (2.0.1)\n"
          ]
        }
      ],
      "source": [
        "# Use seaborn for pairplot.\n",
        "!pip install -q seaborn\n",
        "!pip install --upgrade xlrd"
      ]
    },
    {
      "cell_type": "code",
      "execution_count": null,
      "metadata": {
        "id": "1rRo8oNqZ-Rj"
      },
      "outputs": [],
      "source": [
        "import matplotlib.pyplot as plt\n",
        "import numpy as np\n",
        "import pandas as pd\n",
        "import seaborn as sns\n",
        "\n",
        "np.set_printoptions(precision=3, suppress=True)"
      ]
    },
    {
      "cell_type": "code",
      "execution_count": null,
      "metadata": {
        "id": "9xQKvCJ85kCQ",
        "outputId": "ee121567-38cd-4446-ed51-5cf32ff3e1f9",
        "colab": {
          "base_uri": "https://localhost:8080/"
        }
      },
      "outputs": [
        {
          "output_type": "stream",
          "name": "stdout",
          "text": [
            "2.8.0\n"
          ]
        }
      ],
      "source": [
        "import tensorflow as tf\n",
        "\n",
        "from tensorflow import keras\n",
        "from tensorflow.keras import layers\n",
        "\n",
        "print(tf.__version__)"
      ]
    },
    {
      "cell_type": "markdown",
      "metadata": {
        "id": "F_72b0LCNbjx"
      },
      "source": [
        "## COMPOSITS DATASET\n",
        "\n",
        "\n"
      ]
    },
    {
      "cell_type": "code",
      "execution_count": null,
      "metadata": {
        "id": "CiX2FI4gZtTt"
      },
      "outputs": [],
      "source": [
        "column_names = ['Угол нашивки, град',\t'Шаг нашивки',\t'Плотность нашивки',\t'Соотношение матрица-наполнитель',\t'Плотность, кг/м3', 'модуль упругости, ГПа',\t'Количество отвердителя, м.%',\t'Содержание эпоксидных групп,%_2',\t'Температура вспышки, С_2',\t'Поверхностная плотность, г/м2',\t'Модуль упругости при растяжении, ГПа',\t'Прочность при растяжении, МПа',\t'Потребление смолы, г/м2']\n",
        "\n",
        "raw_dataset = pd.read_excel('join.xls', index_col=0)"
      ]
    },
    {
      "cell_type": "code",
      "execution_count": null,
      "metadata": {
        "id": "2oY3pMPagJrO",
        "outputId": "7875ddb1-0d8e-406e-f1ec-f0adaaf7404e",
        "colab": {
          "base_uri": "https://localhost:8080/",
          "height": 384
        }
      },
      "outputs": [
        {
          "output_type": "execute_result",
          "data": {
            "text/plain": [
              "          Угол нашивки, град  Шаг нашивки  Плотность нашивки  \\\n",
              "ИНДЕКС 1                                                       \n",
              "1018                      90     9.076380          47.019770   \n",
              "1019                      90    10.565614          53.750790   \n",
              "1020                      90     4.161154          67.629684   \n",
              "1021                      90     6.313201          58.261074   \n",
              "1022                      90     6.078902          77.434468   \n",
              "\n",
              "          Соотношение матрица-наполнитель  Плотность, кг/м3  \\\n",
              "ИНДЕКС 1                                                      \n",
              "1018                             2.271346       1952.087902   \n",
              "1019                             3.444022       2050.089171   \n",
              "1020                             3.280604       1972.372865   \n",
              "1021                             3.705351       2066.799773   \n",
              "1022                             3.808020       1890.413468   \n",
              "\n",
              "          модуль упругости, ГПа  Количество отвердителя, м.%  \\\n",
              "ИНДЕКС 1                                                       \n",
              "1018                 912.855545                    86.992183   \n",
              "1019                 444.732634                   145.981978   \n",
              "1020                 416.836524                   110.533477   \n",
              "1021                 741.475517                   141.397963   \n",
              "1022                 417.316232                   129.183416   \n",
              "\n",
              "          Содержание эпоксидных групп,%_2  Температура вспышки, С_2  \\\n",
              "ИНДЕКС 1                                                              \n",
              "1018                            20.123249                324.774576   \n",
              "1019                            19.599769                254.215401   \n",
              "1020                            23.957502                248.423047   \n",
              "1021                            19.246945                275.779840   \n",
              "1022                            27.474763                300.952708   \n",
              "\n",
              "          Поверхностная плотность, г/м2  Модуль упругости при растяжении, ГПа  \\\n",
              "ИНДЕКС 1                                                                        \n",
              "1018                         209.198700                             73.090961   \n",
              "1019                         350.660830                             72.920827   \n",
              "1020                         740.142791                             74.734344   \n",
              "1021                         641.468152                             74.042708   \n",
              "1022                         758.747882                             74.309704   \n",
              "\n",
              "          Прочность при растяжении, МПа  Потребление смолы, г/м2  \n",
              "ИНДЕКС 1                                                          \n",
              "1018                        2387.292495               125.007669  \n",
              "1019                        2360.392784               117.730099  \n",
              "1020                        2662.906040               236.606764  \n",
              "1021                        2071.715856               197.126067  \n",
              "1022                        2856.328932               194.754342  "
            ],
            "text/html": [
              "\n",
              "  <div id=\"df-349a5320-82bc-4c1c-a150-64847f801383\">\n",
              "    <div class=\"colab-df-container\">\n",
              "      <div>\n",
              "<style scoped>\n",
              "    .dataframe tbody tr th:only-of-type {\n",
              "        vertical-align: middle;\n",
              "    }\n",
              "\n",
              "    .dataframe tbody tr th {\n",
              "        vertical-align: top;\n",
              "    }\n",
              "\n",
              "    .dataframe thead th {\n",
              "        text-align: right;\n",
              "    }\n",
              "</style>\n",
              "<table border=\"1\" class=\"dataframe\">\n",
              "  <thead>\n",
              "    <tr style=\"text-align: right;\">\n",
              "      <th></th>\n",
              "      <th>Угол нашивки, град</th>\n",
              "      <th>Шаг нашивки</th>\n",
              "      <th>Плотность нашивки</th>\n",
              "      <th>Соотношение матрица-наполнитель</th>\n",
              "      <th>Плотность, кг/м3</th>\n",
              "      <th>модуль упругости, ГПа</th>\n",
              "      <th>Количество отвердителя, м.%</th>\n",
              "      <th>Содержание эпоксидных групп,%_2</th>\n",
              "      <th>Температура вспышки, С_2</th>\n",
              "      <th>Поверхностная плотность, г/м2</th>\n",
              "      <th>Модуль упругости при растяжении, ГПа</th>\n",
              "      <th>Прочность при растяжении, МПа</th>\n",
              "      <th>Потребление смолы, г/м2</th>\n",
              "    </tr>\n",
              "    <tr>\n",
              "      <th>ИНДЕКС 1</th>\n",
              "      <th></th>\n",
              "      <th></th>\n",
              "      <th></th>\n",
              "      <th></th>\n",
              "      <th></th>\n",
              "      <th></th>\n",
              "      <th></th>\n",
              "      <th></th>\n",
              "      <th></th>\n",
              "      <th></th>\n",
              "      <th></th>\n",
              "      <th></th>\n",
              "      <th></th>\n",
              "    </tr>\n",
              "  </thead>\n",
              "  <tbody>\n",
              "    <tr>\n",
              "      <th>1018</th>\n",
              "      <td>90</td>\n",
              "      <td>9.076380</td>\n",
              "      <td>47.019770</td>\n",
              "      <td>2.271346</td>\n",
              "      <td>1952.087902</td>\n",
              "      <td>912.855545</td>\n",
              "      <td>86.992183</td>\n",
              "      <td>20.123249</td>\n",
              "      <td>324.774576</td>\n",
              "      <td>209.198700</td>\n",
              "      <td>73.090961</td>\n",
              "      <td>2387.292495</td>\n",
              "      <td>125.007669</td>\n",
              "    </tr>\n",
              "    <tr>\n",
              "      <th>1019</th>\n",
              "      <td>90</td>\n",
              "      <td>10.565614</td>\n",
              "      <td>53.750790</td>\n",
              "      <td>3.444022</td>\n",
              "      <td>2050.089171</td>\n",
              "      <td>444.732634</td>\n",
              "      <td>145.981978</td>\n",
              "      <td>19.599769</td>\n",
              "      <td>254.215401</td>\n",
              "      <td>350.660830</td>\n",
              "      <td>72.920827</td>\n",
              "      <td>2360.392784</td>\n",
              "      <td>117.730099</td>\n",
              "    </tr>\n",
              "    <tr>\n",
              "      <th>1020</th>\n",
              "      <td>90</td>\n",
              "      <td>4.161154</td>\n",
              "      <td>67.629684</td>\n",
              "      <td>3.280604</td>\n",
              "      <td>1972.372865</td>\n",
              "      <td>416.836524</td>\n",
              "      <td>110.533477</td>\n",
              "      <td>23.957502</td>\n",
              "      <td>248.423047</td>\n",
              "      <td>740.142791</td>\n",
              "      <td>74.734344</td>\n",
              "      <td>2662.906040</td>\n",
              "      <td>236.606764</td>\n",
              "    </tr>\n",
              "    <tr>\n",
              "      <th>1021</th>\n",
              "      <td>90</td>\n",
              "      <td>6.313201</td>\n",
              "      <td>58.261074</td>\n",
              "      <td>3.705351</td>\n",
              "      <td>2066.799773</td>\n",
              "      <td>741.475517</td>\n",
              "      <td>141.397963</td>\n",
              "      <td>19.246945</td>\n",
              "      <td>275.779840</td>\n",
              "      <td>641.468152</td>\n",
              "      <td>74.042708</td>\n",
              "      <td>2071.715856</td>\n",
              "      <td>197.126067</td>\n",
              "    </tr>\n",
              "    <tr>\n",
              "      <th>1022</th>\n",
              "      <td>90</td>\n",
              "      <td>6.078902</td>\n",
              "      <td>77.434468</td>\n",
              "      <td>3.808020</td>\n",
              "      <td>1890.413468</td>\n",
              "      <td>417.316232</td>\n",
              "      <td>129.183416</td>\n",
              "      <td>27.474763</td>\n",
              "      <td>300.952708</td>\n",
              "      <td>758.747882</td>\n",
              "      <td>74.309704</td>\n",
              "      <td>2856.328932</td>\n",
              "      <td>194.754342</td>\n",
              "    </tr>\n",
              "  </tbody>\n",
              "</table>\n",
              "</div>\n",
              "      <button class=\"colab-df-convert\" onclick=\"convertToInteractive('df-349a5320-82bc-4c1c-a150-64847f801383')\"\n",
              "              title=\"Convert this dataframe to an interactive table.\"\n",
              "              style=\"display:none;\">\n",
              "        \n",
              "  <svg xmlns=\"http://www.w3.org/2000/svg\" height=\"24px\"viewBox=\"0 0 24 24\"\n",
              "       width=\"24px\">\n",
              "    <path d=\"M0 0h24v24H0V0z\" fill=\"none\"/>\n",
              "    <path d=\"M18.56 5.44l.94 2.06.94-2.06 2.06-.94-2.06-.94-.94-2.06-.94 2.06-2.06.94zm-11 1L8.5 8.5l.94-2.06 2.06-.94-2.06-.94L8.5 2.5l-.94 2.06-2.06.94zm10 10l.94 2.06.94-2.06 2.06-.94-2.06-.94-.94-2.06-.94 2.06-2.06.94z\"/><path d=\"M17.41 7.96l-1.37-1.37c-.4-.4-.92-.59-1.43-.59-.52 0-1.04.2-1.43.59L10.3 9.45l-7.72 7.72c-.78.78-.78 2.05 0 2.83L4 21.41c.39.39.9.59 1.41.59.51 0 1.02-.2 1.41-.59l7.78-7.78 2.81-2.81c.8-.78.8-2.07 0-2.86zM5.41 20L4 18.59l7.72-7.72 1.47 1.35L5.41 20z\"/>\n",
              "  </svg>\n",
              "      </button>\n",
              "      \n",
              "  <style>\n",
              "    .colab-df-container {\n",
              "      display:flex;\n",
              "      flex-wrap:wrap;\n",
              "      gap: 12px;\n",
              "    }\n",
              "\n",
              "    .colab-df-convert {\n",
              "      background-color: #E8F0FE;\n",
              "      border: none;\n",
              "      border-radius: 50%;\n",
              "      cursor: pointer;\n",
              "      display: none;\n",
              "      fill: #1967D2;\n",
              "      height: 32px;\n",
              "      padding: 0 0 0 0;\n",
              "      width: 32px;\n",
              "    }\n",
              "\n",
              "    .colab-df-convert:hover {\n",
              "      background-color: #E2EBFA;\n",
              "      box-shadow: 0px 1px 2px rgba(60, 64, 67, 0.3), 0px 1px 3px 1px rgba(60, 64, 67, 0.15);\n",
              "      fill: #174EA6;\n",
              "    }\n",
              "\n",
              "    [theme=dark] .colab-df-convert {\n",
              "      background-color: #3B4455;\n",
              "      fill: #D2E3FC;\n",
              "    }\n",
              "\n",
              "    [theme=dark] .colab-df-convert:hover {\n",
              "      background-color: #434B5C;\n",
              "      box-shadow: 0px 1px 3px 1px rgba(0, 0, 0, 0.15);\n",
              "      filter: drop-shadow(0px 1px 2px rgba(0, 0, 0, 0.3));\n",
              "      fill: #FFFFFF;\n",
              "    }\n",
              "  </style>\n",
              "\n",
              "      <script>\n",
              "        const buttonEl =\n",
              "          document.querySelector('#df-349a5320-82bc-4c1c-a150-64847f801383 button.colab-df-convert');\n",
              "        buttonEl.style.display =\n",
              "          google.colab.kernel.accessAllowed ? 'block' : 'none';\n",
              "\n",
              "        async function convertToInteractive(key) {\n",
              "          const element = document.querySelector('#df-349a5320-82bc-4c1c-a150-64847f801383');\n",
              "          const dataTable =\n",
              "            await google.colab.kernel.invokeFunction('convertToInteractive',\n",
              "                                                     [key], {});\n",
              "          if (!dataTable) return;\n",
              "\n",
              "          const docLinkHtml = 'Like what you see? Visit the ' +\n",
              "            '<a target=\"_blank\" href=https://colab.research.google.com/notebooks/data_table.ipynb>data table notebook</a>'\n",
              "            + ' to learn more about interactive tables.';\n",
              "          element.innerHTML = '';\n",
              "          dataTable['output_type'] = 'display_data';\n",
              "          await google.colab.output.renderOutput(dataTable, element);\n",
              "          const docLink = document.createElement('div');\n",
              "          docLink.innerHTML = docLinkHtml;\n",
              "          element.appendChild(docLink);\n",
              "        }\n",
              "      </script>\n",
              "    </div>\n",
              "  </div>\n",
              "  "
            ]
          },
          "metadata": {},
          "execution_count": 195
        }
      ],
      "source": [
        "dataset = raw_dataset.copy()\n",
        "dataset.tail()"
      ]
    },
    {
      "cell_type": "markdown",
      "metadata": {
        "id": "3MWuJTKEDM-f"
      },
      "source": [
        "### Clean the data\n",
        "\n",
        "The dataset contains a few unknown values:"
      ]
    },
    {
      "cell_type": "code",
      "execution_count": null,
      "metadata": {
        "id": "JEJHhN65a2VV",
        "outputId": "0dbdc9f6-8b21-4fad-eabb-9bad6b0cda8e",
        "colab": {
          "base_uri": "https://localhost:8080/"
        }
      },
      "outputs": [
        {
          "output_type": "execute_result",
          "data": {
            "text/plain": [
              "Угол нашивки, град                      0\n",
              "Шаг нашивки                             0\n",
              "Плотность нашивки                       0\n",
              "Соотношение матрица-наполнитель         0\n",
              "Плотность, кг/м3                        0\n",
              "модуль упругости, ГПа                   0\n",
              "Количество отвердителя, м.%             0\n",
              "Содержание эпоксидных групп,%_2         0\n",
              "Температура вспышки, С_2                0\n",
              "Поверхностная плотность, г/м2           0\n",
              "Модуль упругости при растяжении, ГПа    0\n",
              "Прочность при растяжении, МПа           0\n",
              "Потребление смолы, г/м2                 0\n",
              "dtype: int64"
            ]
          },
          "metadata": {},
          "execution_count": 196
        }
      ],
      "source": [
        "dataset.isna().sum()"
      ]
    },
    {
      "cell_type": "markdown",
      "metadata": {
        "id": "9UPN0KBHa_WI"
      },
      "source": [
        "Drop those rows to keep this initial tutorial simple:"
      ]
    },
    {
      "cell_type": "code",
      "execution_count": null,
      "metadata": {
        "id": "4ZUDosChC1UN",
        "colab": {
          "base_uri": "https://localhost:8080/",
          "height": 384
        },
        "outputId": "815e4ac9-c51f-4d72-c114-82b7cc8041c1"
      },
      "outputs": [
        {
          "output_type": "execute_result",
          "data": {
            "text/plain": [
              "          Угол нашивки, град  Шаг нашивки  Плотность нашивки  \\\n",
              "ИНДЕКС 1                                                       \n",
              "1018                      90     9.076380          47.019770   \n",
              "1019                      90    10.565614          53.750790   \n",
              "1020                      90     4.161154          67.629684   \n",
              "1021                      90     6.313201          58.261074   \n",
              "1022                      90     6.078902          77.434468   \n",
              "\n",
              "          Соотношение матрица-наполнитель  Плотность, кг/м3  \\\n",
              "ИНДЕКС 1                                                      \n",
              "1018                             2.271346       1952.087902   \n",
              "1019                             3.444022       2050.089171   \n",
              "1020                             3.280604       1972.372865   \n",
              "1021                             3.705351       2066.799773   \n",
              "1022                             3.808020       1890.413468   \n",
              "\n",
              "          модуль упругости, ГПа  Количество отвердителя, м.%  \\\n",
              "ИНДЕКС 1                                                       \n",
              "1018                 912.855545                    86.992183   \n",
              "1019                 444.732634                   145.981978   \n",
              "1020                 416.836524                   110.533477   \n",
              "1021                 741.475517                   141.397963   \n",
              "1022                 417.316232                   129.183416   \n",
              "\n",
              "          Содержание эпоксидных групп,%_2  Температура вспышки, С_2  \\\n",
              "ИНДЕКС 1                                                              \n",
              "1018                            20.123249                324.774576   \n",
              "1019                            19.599769                254.215401   \n",
              "1020                            23.957502                248.423047   \n",
              "1021                            19.246945                275.779840   \n",
              "1022                            27.474763                300.952708   \n",
              "\n",
              "          Поверхностная плотность, г/м2  Модуль упругости при растяжении, ГПа  \\\n",
              "ИНДЕКС 1                                                                        \n",
              "1018                         209.198700                             73.090961   \n",
              "1019                         350.660830                             72.920827   \n",
              "1020                         740.142791                             74.734344   \n",
              "1021                         641.468152                             74.042708   \n",
              "1022                         758.747882                             74.309704   \n",
              "\n",
              "          Прочность при растяжении, МПа  Потребление смолы, г/м2  \n",
              "ИНДЕКС 1                                                          \n",
              "1018                        2387.292495               125.007669  \n",
              "1019                        2360.392784               117.730099  \n",
              "1020                        2662.906040               236.606764  \n",
              "1021                        2071.715856               197.126067  \n",
              "1022                        2856.328932               194.754342  "
            ],
            "text/html": [
              "\n",
              "  <div id=\"df-7c82faec-56cf-4b1b-b43e-fa873b20ef63\">\n",
              "    <div class=\"colab-df-container\">\n",
              "      <div>\n",
              "<style scoped>\n",
              "    .dataframe tbody tr th:only-of-type {\n",
              "        vertical-align: middle;\n",
              "    }\n",
              "\n",
              "    .dataframe tbody tr th {\n",
              "        vertical-align: top;\n",
              "    }\n",
              "\n",
              "    .dataframe thead th {\n",
              "        text-align: right;\n",
              "    }\n",
              "</style>\n",
              "<table border=\"1\" class=\"dataframe\">\n",
              "  <thead>\n",
              "    <tr style=\"text-align: right;\">\n",
              "      <th></th>\n",
              "      <th>Угол нашивки, град</th>\n",
              "      <th>Шаг нашивки</th>\n",
              "      <th>Плотность нашивки</th>\n",
              "      <th>Соотношение матрица-наполнитель</th>\n",
              "      <th>Плотность, кг/м3</th>\n",
              "      <th>модуль упругости, ГПа</th>\n",
              "      <th>Количество отвердителя, м.%</th>\n",
              "      <th>Содержание эпоксидных групп,%_2</th>\n",
              "      <th>Температура вспышки, С_2</th>\n",
              "      <th>Поверхностная плотность, г/м2</th>\n",
              "      <th>Модуль упругости при растяжении, ГПа</th>\n",
              "      <th>Прочность при растяжении, МПа</th>\n",
              "      <th>Потребление смолы, г/м2</th>\n",
              "    </tr>\n",
              "    <tr>\n",
              "      <th>ИНДЕКС 1</th>\n",
              "      <th></th>\n",
              "      <th></th>\n",
              "      <th></th>\n",
              "      <th></th>\n",
              "      <th></th>\n",
              "      <th></th>\n",
              "      <th></th>\n",
              "      <th></th>\n",
              "      <th></th>\n",
              "      <th></th>\n",
              "      <th></th>\n",
              "      <th></th>\n",
              "      <th></th>\n",
              "    </tr>\n",
              "  </thead>\n",
              "  <tbody>\n",
              "    <tr>\n",
              "      <th>1018</th>\n",
              "      <td>90</td>\n",
              "      <td>9.076380</td>\n",
              "      <td>47.019770</td>\n",
              "      <td>2.271346</td>\n",
              "      <td>1952.087902</td>\n",
              "      <td>912.855545</td>\n",
              "      <td>86.992183</td>\n",
              "      <td>20.123249</td>\n",
              "      <td>324.774576</td>\n",
              "      <td>209.198700</td>\n",
              "      <td>73.090961</td>\n",
              "      <td>2387.292495</td>\n",
              "      <td>125.007669</td>\n",
              "    </tr>\n",
              "    <tr>\n",
              "      <th>1019</th>\n",
              "      <td>90</td>\n",
              "      <td>10.565614</td>\n",
              "      <td>53.750790</td>\n",
              "      <td>3.444022</td>\n",
              "      <td>2050.089171</td>\n",
              "      <td>444.732634</td>\n",
              "      <td>145.981978</td>\n",
              "      <td>19.599769</td>\n",
              "      <td>254.215401</td>\n",
              "      <td>350.660830</td>\n",
              "      <td>72.920827</td>\n",
              "      <td>2360.392784</td>\n",
              "      <td>117.730099</td>\n",
              "    </tr>\n",
              "    <tr>\n",
              "      <th>1020</th>\n",
              "      <td>90</td>\n",
              "      <td>4.161154</td>\n",
              "      <td>67.629684</td>\n",
              "      <td>3.280604</td>\n",
              "      <td>1972.372865</td>\n",
              "      <td>416.836524</td>\n",
              "      <td>110.533477</td>\n",
              "      <td>23.957502</td>\n",
              "      <td>248.423047</td>\n",
              "      <td>740.142791</td>\n",
              "      <td>74.734344</td>\n",
              "      <td>2662.906040</td>\n",
              "      <td>236.606764</td>\n",
              "    </tr>\n",
              "    <tr>\n",
              "      <th>1021</th>\n",
              "      <td>90</td>\n",
              "      <td>6.313201</td>\n",
              "      <td>58.261074</td>\n",
              "      <td>3.705351</td>\n",
              "      <td>2066.799773</td>\n",
              "      <td>741.475517</td>\n",
              "      <td>141.397963</td>\n",
              "      <td>19.246945</td>\n",
              "      <td>275.779840</td>\n",
              "      <td>641.468152</td>\n",
              "      <td>74.042708</td>\n",
              "      <td>2071.715856</td>\n",
              "      <td>197.126067</td>\n",
              "    </tr>\n",
              "    <tr>\n",
              "      <th>1022</th>\n",
              "      <td>90</td>\n",
              "      <td>6.078902</td>\n",
              "      <td>77.434468</td>\n",
              "      <td>3.808020</td>\n",
              "      <td>1890.413468</td>\n",
              "      <td>417.316232</td>\n",
              "      <td>129.183416</td>\n",
              "      <td>27.474763</td>\n",
              "      <td>300.952708</td>\n",
              "      <td>758.747882</td>\n",
              "      <td>74.309704</td>\n",
              "      <td>2856.328932</td>\n",
              "      <td>194.754342</td>\n",
              "    </tr>\n",
              "  </tbody>\n",
              "</table>\n",
              "</div>\n",
              "      <button class=\"colab-df-convert\" onclick=\"convertToInteractive('df-7c82faec-56cf-4b1b-b43e-fa873b20ef63')\"\n",
              "              title=\"Convert this dataframe to an interactive table.\"\n",
              "              style=\"display:none;\">\n",
              "        \n",
              "  <svg xmlns=\"http://www.w3.org/2000/svg\" height=\"24px\"viewBox=\"0 0 24 24\"\n",
              "       width=\"24px\">\n",
              "    <path d=\"M0 0h24v24H0V0z\" fill=\"none\"/>\n",
              "    <path d=\"M18.56 5.44l.94 2.06.94-2.06 2.06-.94-2.06-.94-.94-2.06-.94 2.06-2.06.94zm-11 1L8.5 8.5l.94-2.06 2.06-.94-2.06-.94L8.5 2.5l-.94 2.06-2.06.94zm10 10l.94 2.06.94-2.06 2.06-.94-2.06-.94-.94-2.06-.94 2.06-2.06.94z\"/><path d=\"M17.41 7.96l-1.37-1.37c-.4-.4-.92-.59-1.43-.59-.52 0-1.04.2-1.43.59L10.3 9.45l-7.72 7.72c-.78.78-.78 2.05 0 2.83L4 21.41c.39.39.9.59 1.41.59.51 0 1.02-.2 1.41-.59l7.78-7.78 2.81-2.81c.8-.78.8-2.07 0-2.86zM5.41 20L4 18.59l7.72-7.72 1.47 1.35L5.41 20z\"/>\n",
              "  </svg>\n",
              "      </button>\n",
              "      \n",
              "  <style>\n",
              "    .colab-df-container {\n",
              "      display:flex;\n",
              "      flex-wrap:wrap;\n",
              "      gap: 12px;\n",
              "    }\n",
              "\n",
              "    .colab-df-convert {\n",
              "      background-color: #E8F0FE;\n",
              "      border: none;\n",
              "      border-radius: 50%;\n",
              "      cursor: pointer;\n",
              "      display: none;\n",
              "      fill: #1967D2;\n",
              "      height: 32px;\n",
              "      padding: 0 0 0 0;\n",
              "      width: 32px;\n",
              "    }\n",
              "\n",
              "    .colab-df-convert:hover {\n",
              "      background-color: #E2EBFA;\n",
              "      box-shadow: 0px 1px 2px rgba(60, 64, 67, 0.3), 0px 1px 3px 1px rgba(60, 64, 67, 0.15);\n",
              "      fill: #174EA6;\n",
              "    }\n",
              "\n",
              "    [theme=dark] .colab-df-convert {\n",
              "      background-color: #3B4455;\n",
              "      fill: #D2E3FC;\n",
              "    }\n",
              "\n",
              "    [theme=dark] .colab-df-convert:hover {\n",
              "      background-color: #434B5C;\n",
              "      box-shadow: 0px 1px 3px 1px rgba(0, 0, 0, 0.15);\n",
              "      filter: drop-shadow(0px 1px 2px rgba(0, 0, 0, 0.3));\n",
              "      fill: #FFFFFF;\n",
              "    }\n",
              "  </style>\n",
              "\n",
              "      <script>\n",
              "        const buttonEl =\n",
              "          document.querySelector('#df-7c82faec-56cf-4b1b-b43e-fa873b20ef63 button.colab-df-convert');\n",
              "        buttonEl.style.display =\n",
              "          google.colab.kernel.accessAllowed ? 'block' : 'none';\n",
              "\n",
              "        async function convertToInteractive(key) {\n",
              "          const element = document.querySelector('#df-7c82faec-56cf-4b1b-b43e-fa873b20ef63');\n",
              "          const dataTable =\n",
              "            await google.colab.kernel.invokeFunction('convertToInteractive',\n",
              "                                                     [key], {});\n",
              "          if (!dataTable) return;\n",
              "\n",
              "          const docLinkHtml = 'Like what you see? Visit the ' +\n",
              "            '<a target=\"_blank\" href=https://colab.research.google.com/notebooks/data_table.ipynb>data table notebook</a>'\n",
              "            + ' to learn more about interactive tables.';\n",
              "          element.innerHTML = '';\n",
              "          dataTable['output_type'] = 'display_data';\n",
              "          await google.colab.output.renderOutput(dataTable, element);\n",
              "          const docLink = document.createElement('div');\n",
              "          docLink.innerHTML = docLinkHtml;\n",
              "          element.appendChild(docLink);\n",
              "        }\n",
              "      </script>\n",
              "    </div>\n",
              "  </div>\n",
              "  "
            ]
          },
          "metadata": {},
          "execution_count": 197
        }
      ],
      "source": [
        "dataset = dataset.dropna()\n",
        "dataset.tail()"
      ]
    },
    {
      "cell_type": "code",
      "execution_count": null,
      "metadata": {
        "id": "qn-IGhUE7_1H",
        "colab": {
          "base_uri": "https://localhost:8080/",
          "height": 384
        },
        "outputId": "d1db68a8-1994-4401-fa4c-b7b8c870eebb"
      },
      "outputs": [
        {
          "output_type": "execute_result",
          "data": {
            "text/plain": [
              "          Угол нашивки, град  Шаг нашивки  Плотность нашивки  \\\n",
              "ИНДЕКС 1                                                       \n",
              "464                        0     4.447498         103.988901   \n",
              "25                        90     5.000000          57.000000   \n",
              "110                        0     3.708515          78.380006   \n",
              "149                        0     4.036464          60.329680   \n",
              "152                        0     7.557387          58.732672   \n",
              "\n",
              "          Соотношение матрица-наполнитель  Плотность, кг/м3  \\\n",
              "ИНДЕКС 1                                                      \n",
              "464                              2.440166       1980.132394   \n",
              "25                               2.046471       2037.631811   \n",
              "110                              3.490162       1986.340110   \n",
              "149                              1.916843       2109.441659   \n",
              "152                              1.493196       1997.212555   \n",
              "\n",
              "          модуль упругости, ГПа  Количество отвердителя, м.%  \\\n",
              "ИНДЕКС 1                                                       \n",
              "464                  357.938256                   130.541848   \n",
              "25                   707.570887                   101.617251   \n",
              "110                 1257.779003                    93.748554   \n",
              "149                  691.301685                   116.606570   \n",
              "152                 1010.784737                   107.549456   \n",
              "\n",
              "          Содержание эпоксидных групп,%_2  Температура вспышки, С_2  \\\n",
              "ИНДЕКС 1                                                              \n",
              "464                             21.177094                290.618547   \n",
              "25                              23.146393                312.307205   \n",
              "110                             24.593272                338.101359   \n",
              "149                             21.611736                341.789754   \n",
              "152                             17.300539                322.532498   \n",
              "\n",
              "          Поверхностная плотность, г/м2  Модуль упругости при растяжении, ГПа  \\\n",
              "ИНДЕКС 1                                                                        \n",
              "464                          119.756192                             68.900703   \n",
              "25                           547.601219                             73.817067   \n",
              "110                           76.682693                             76.179383   \n",
              "149                          372.705290                             72.680026   \n",
              "152                          165.345449                             72.775930   \n",
              "\n",
              "          Прочность при растяжении, МПа  Потребление смолы, г/м2  \n",
              "ИНДЕКС 1                                                          \n",
              "464                         1577.288189               129.038238  \n",
              "25                          2624.026407               178.198556  \n",
              "110                         2605.949634               261.819468  \n",
              "149                         2085.866383               265.171039  \n",
              "152                         2144.891733               160.115495  "
            ],
            "text/html": [
              "\n",
              "  <div id=\"df-8674e21d-5f2e-42ea-9d53-858485c65859\">\n",
              "    <div class=\"colab-df-container\">\n",
              "      <div>\n",
              "<style scoped>\n",
              "    .dataframe tbody tr th:only-of-type {\n",
              "        vertical-align: middle;\n",
              "    }\n",
              "\n",
              "    .dataframe tbody tr th {\n",
              "        vertical-align: top;\n",
              "    }\n",
              "\n",
              "    .dataframe thead th {\n",
              "        text-align: right;\n",
              "    }\n",
              "</style>\n",
              "<table border=\"1\" class=\"dataframe\">\n",
              "  <thead>\n",
              "    <tr style=\"text-align: right;\">\n",
              "      <th></th>\n",
              "      <th>Угол нашивки, град</th>\n",
              "      <th>Шаг нашивки</th>\n",
              "      <th>Плотность нашивки</th>\n",
              "      <th>Соотношение матрица-наполнитель</th>\n",
              "      <th>Плотность, кг/м3</th>\n",
              "      <th>модуль упругости, ГПа</th>\n",
              "      <th>Количество отвердителя, м.%</th>\n",
              "      <th>Содержание эпоксидных групп,%_2</th>\n",
              "      <th>Температура вспышки, С_2</th>\n",
              "      <th>Поверхностная плотность, г/м2</th>\n",
              "      <th>Модуль упругости при растяжении, ГПа</th>\n",
              "      <th>Прочность при растяжении, МПа</th>\n",
              "      <th>Потребление смолы, г/м2</th>\n",
              "    </tr>\n",
              "    <tr>\n",
              "      <th>ИНДЕКС 1</th>\n",
              "      <th></th>\n",
              "      <th></th>\n",
              "      <th></th>\n",
              "      <th></th>\n",
              "      <th></th>\n",
              "      <th></th>\n",
              "      <th></th>\n",
              "      <th></th>\n",
              "      <th></th>\n",
              "      <th></th>\n",
              "      <th></th>\n",
              "      <th></th>\n",
              "      <th></th>\n",
              "    </tr>\n",
              "  </thead>\n",
              "  <tbody>\n",
              "    <tr>\n",
              "      <th>464</th>\n",
              "      <td>0</td>\n",
              "      <td>4.447498</td>\n",
              "      <td>103.988901</td>\n",
              "      <td>2.440166</td>\n",
              "      <td>1980.132394</td>\n",
              "      <td>357.938256</td>\n",
              "      <td>130.541848</td>\n",
              "      <td>21.177094</td>\n",
              "      <td>290.618547</td>\n",
              "      <td>119.756192</td>\n",
              "      <td>68.900703</td>\n",
              "      <td>1577.288189</td>\n",
              "      <td>129.038238</td>\n",
              "    </tr>\n",
              "    <tr>\n",
              "      <th>25</th>\n",
              "      <td>90</td>\n",
              "      <td>5.000000</td>\n",
              "      <td>57.000000</td>\n",
              "      <td>2.046471</td>\n",
              "      <td>2037.631811</td>\n",
              "      <td>707.570887</td>\n",
              "      <td>101.617251</td>\n",
              "      <td>23.146393</td>\n",
              "      <td>312.307205</td>\n",
              "      <td>547.601219</td>\n",
              "      <td>73.817067</td>\n",
              "      <td>2624.026407</td>\n",
              "      <td>178.198556</td>\n",
              "    </tr>\n",
              "    <tr>\n",
              "      <th>110</th>\n",
              "      <td>0</td>\n",
              "      <td>3.708515</td>\n",
              "      <td>78.380006</td>\n",
              "      <td>3.490162</td>\n",
              "      <td>1986.340110</td>\n",
              "      <td>1257.779003</td>\n",
              "      <td>93.748554</td>\n",
              "      <td>24.593272</td>\n",
              "      <td>338.101359</td>\n",
              "      <td>76.682693</td>\n",
              "      <td>76.179383</td>\n",
              "      <td>2605.949634</td>\n",
              "      <td>261.819468</td>\n",
              "    </tr>\n",
              "    <tr>\n",
              "      <th>149</th>\n",
              "      <td>0</td>\n",
              "      <td>4.036464</td>\n",
              "      <td>60.329680</td>\n",
              "      <td>1.916843</td>\n",
              "      <td>2109.441659</td>\n",
              "      <td>691.301685</td>\n",
              "      <td>116.606570</td>\n",
              "      <td>21.611736</td>\n",
              "      <td>341.789754</td>\n",
              "      <td>372.705290</td>\n",
              "      <td>72.680026</td>\n",
              "      <td>2085.866383</td>\n",
              "      <td>265.171039</td>\n",
              "    </tr>\n",
              "    <tr>\n",
              "      <th>152</th>\n",
              "      <td>0</td>\n",
              "      <td>7.557387</td>\n",
              "      <td>58.732672</td>\n",
              "      <td>1.493196</td>\n",
              "      <td>1997.212555</td>\n",
              "      <td>1010.784737</td>\n",
              "      <td>107.549456</td>\n",
              "      <td>17.300539</td>\n",
              "      <td>322.532498</td>\n",
              "      <td>165.345449</td>\n",
              "      <td>72.775930</td>\n",
              "      <td>2144.891733</td>\n",
              "      <td>160.115495</td>\n",
              "    </tr>\n",
              "  </tbody>\n",
              "</table>\n",
              "</div>\n",
              "      <button class=\"colab-df-convert\" onclick=\"convertToInteractive('df-8674e21d-5f2e-42ea-9d53-858485c65859')\"\n",
              "              title=\"Convert this dataframe to an interactive table.\"\n",
              "              style=\"display:none;\">\n",
              "        \n",
              "  <svg xmlns=\"http://www.w3.org/2000/svg\" height=\"24px\"viewBox=\"0 0 24 24\"\n",
              "       width=\"24px\">\n",
              "    <path d=\"M0 0h24v24H0V0z\" fill=\"none\"/>\n",
              "    <path d=\"M18.56 5.44l.94 2.06.94-2.06 2.06-.94-2.06-.94-.94-2.06-.94 2.06-2.06.94zm-11 1L8.5 8.5l.94-2.06 2.06-.94-2.06-.94L8.5 2.5l-.94 2.06-2.06.94zm10 10l.94 2.06.94-2.06 2.06-.94-2.06-.94-.94-2.06-.94 2.06-2.06.94z\"/><path d=\"M17.41 7.96l-1.37-1.37c-.4-.4-.92-.59-1.43-.59-.52 0-1.04.2-1.43.59L10.3 9.45l-7.72 7.72c-.78.78-.78 2.05 0 2.83L4 21.41c.39.39.9.59 1.41.59.51 0 1.02-.2 1.41-.59l7.78-7.78 2.81-2.81c.8-.78.8-2.07 0-2.86zM5.41 20L4 18.59l7.72-7.72 1.47 1.35L5.41 20z\"/>\n",
              "  </svg>\n",
              "      </button>\n",
              "      \n",
              "  <style>\n",
              "    .colab-df-container {\n",
              "      display:flex;\n",
              "      flex-wrap:wrap;\n",
              "      gap: 12px;\n",
              "    }\n",
              "\n",
              "    .colab-df-convert {\n",
              "      background-color: #E8F0FE;\n",
              "      border: none;\n",
              "      border-radius: 50%;\n",
              "      cursor: pointer;\n",
              "      display: none;\n",
              "      fill: #1967D2;\n",
              "      height: 32px;\n",
              "      padding: 0 0 0 0;\n",
              "      width: 32px;\n",
              "    }\n",
              "\n",
              "    .colab-df-convert:hover {\n",
              "      background-color: #E2EBFA;\n",
              "      box-shadow: 0px 1px 2px rgba(60, 64, 67, 0.3), 0px 1px 3px 1px rgba(60, 64, 67, 0.15);\n",
              "      fill: #174EA6;\n",
              "    }\n",
              "\n",
              "    [theme=dark] .colab-df-convert {\n",
              "      background-color: #3B4455;\n",
              "      fill: #D2E3FC;\n",
              "    }\n",
              "\n",
              "    [theme=dark] .colab-df-convert:hover {\n",
              "      background-color: #434B5C;\n",
              "      box-shadow: 0px 1px 3px 1px rgba(0, 0, 0, 0.15);\n",
              "      filter: drop-shadow(0px 1px 2px rgba(0, 0, 0, 0.3));\n",
              "      fill: #FFFFFF;\n",
              "    }\n",
              "  </style>\n",
              "\n",
              "      <script>\n",
              "        const buttonEl =\n",
              "          document.querySelector('#df-8674e21d-5f2e-42ea-9d53-858485c65859 button.colab-df-convert');\n",
              "        buttonEl.style.display =\n",
              "          google.colab.kernel.accessAllowed ? 'block' : 'none';\n",
              "\n",
              "        async function convertToInteractive(key) {\n",
              "          const element = document.querySelector('#df-8674e21d-5f2e-42ea-9d53-858485c65859');\n",
              "          const dataTable =\n",
              "            await google.colab.kernel.invokeFunction('convertToInteractive',\n",
              "                                                     [key], {});\n",
              "          if (!dataTable) return;\n",
              "\n",
              "          const docLinkHtml = 'Like what you see? Visit the ' +\n",
              "            '<a target=\"_blank\" href=https://colab.research.google.com/notebooks/data_table.ipynb>data table notebook</a>'\n",
              "            + ' to learn more about interactive tables.';\n",
              "          element.innerHTML = '';\n",
              "          dataTable['output_type'] = 'display_data';\n",
              "          await google.colab.output.renderOutput(dataTable, element);\n",
              "          const docLink = document.createElement('div');\n",
              "          docLink.innerHTML = docLinkHtml;\n",
              "          element.appendChild(docLink);\n",
              "        }\n",
              "      </script>\n",
              "    </div>\n",
              "  </div>\n",
              "  "
            ]
          },
          "metadata": {},
          "execution_count": 198
        }
      ],
      "source": [
        "train_dataset = dataset.sample(frac=0.8, random_state=0)\n",
        "test_dataset = dataset.drop(train_dataset.index)\n",
        "\n",
        "train_dataset.tail()"
      ]
    },
    {
      "cell_type": "code",
      "execution_count": null,
      "metadata": {
        "id": "yi2FzC3T21jR",
        "outputId": "2a4541bc-b8b0-4e7b-c07d-a1cbd6551f6a",
        "colab": {
          "base_uri": "https://localhost:8080/",
          "height": 615
        }
      },
      "outputs": [
        {
          "output_type": "execute_result",
          "data": {
            "text/plain": [
              "                                      count         mean         std  \\\n",
              "Угол нашивки, град                    818.0    43.899756   45.014071   \n",
              "Шаг нашивки                           818.0     6.879073    2.611603   \n",
              "Плотность нашивки                     818.0    57.288675   12.290801   \n",
              "Соотношение матрица-наполнитель       818.0     2.943975    0.922190   \n",
              "Плотность, кг/м3                      818.0  1974.377546   74.987638   \n",
              "модуль упругости, ГПа                 818.0   741.514342  329.799496   \n",
              "Количество отвердителя, м.%           818.0   111.192968   27.797189   \n",
              "Содержание эпоксидных групп,%_2       818.0    22.249671    2.395012   \n",
              "Температура вспышки, С_2              818.0   286.243917   41.283747   \n",
              "Поверхностная плотность, г/м2         818.0   490.129423  280.043448   \n",
              "Модуль упругости при растяжении, ГПа  818.0    73.368702    3.091888   \n",
              "Прочность при растяжении, МПа         818.0  2467.736562  475.680895   \n",
              "Потребление смолы, г/м2               818.0   217.257584   59.206795   \n",
              "\n",
              "                                              min          25%          50%  \\\n",
              "Угол нашивки, град                       0.000000     0.000000     0.000000   \n",
              "Шаг нашивки                              0.037639     5.000000     6.943337   \n",
              "Плотность нашивки                       11.740126    50.036793    57.328584   \n",
              "Соотношение матрица-наполнитель          0.389403     2.320191     2.919678   \n",
              "Плотность, кг/м3                      1731.764635  1922.343882  1975.555671   \n",
              "модуль упругости, ГПа                    2.436909   502.628230   742.886633   \n",
              "Количество отвердителя, м.%             29.956150    93.306043   111.507330   \n",
              "Содержание эпоксидных групп,%_2         14.254985    20.607747    22.267857   \n",
              "Температура вспышки, С_2               100.000000   260.274330   286.220763   \n",
              "Поверхностная плотность, г/м2            1.894093   273.012973   463.881777   \n",
              "Модуль упругости при растяжении, ГПа    64.054061    71.337855    73.342472   \n",
              "Прочность при растяжении, МПа         1036.856605  2148.096359  2457.959767   \n",
              "Потребление смолы, г/м2                 33.803026   179.604490   217.277006   \n",
              "\n",
              "                                              75%          max  \n",
              "Угол нашивки, град                      90.000000    90.000000  \n",
              "Шаг нашивки                              8.579164    14.440522  \n",
              "Плотность нашивки                       65.146638   103.988901  \n",
              "Соотношение матрица-наполнитель          3.583641     5.591742  \n",
              "Плотность, кг/м3                      2021.186675  2207.773481  \n",
              "модуль упругости, ГПа                  966.871905  1911.536477  \n",
              "Количество отвердителя, м.%            129.689233   198.953207  \n",
              "Содержание эпоксидных групп,%_2         23.952628    33.000000  \n",
              "Температура вспышки, С_2               313.518533   403.652861  \n",
              "Поверхностная плотность, г/м2          697.683605  1399.542362  \n",
              "Модуль упругости при растяжении, ГПа    75.486822    82.682051  \n",
              "Прочность при растяжении, МПа         2759.418283  3848.436732  \n",
              "Потребление смолы, г/м2                256.462864   414.590628  "
            ],
            "text/html": [
              "\n",
              "  <div id=\"df-8b862b0b-f830-427c-a37b-74e163cfb122\">\n",
              "    <div class=\"colab-df-container\">\n",
              "      <div>\n",
              "<style scoped>\n",
              "    .dataframe tbody tr th:only-of-type {\n",
              "        vertical-align: middle;\n",
              "    }\n",
              "\n",
              "    .dataframe tbody tr th {\n",
              "        vertical-align: top;\n",
              "    }\n",
              "\n",
              "    .dataframe thead th {\n",
              "        text-align: right;\n",
              "    }\n",
              "</style>\n",
              "<table border=\"1\" class=\"dataframe\">\n",
              "  <thead>\n",
              "    <tr style=\"text-align: right;\">\n",
              "      <th></th>\n",
              "      <th>count</th>\n",
              "      <th>mean</th>\n",
              "      <th>std</th>\n",
              "      <th>min</th>\n",
              "      <th>25%</th>\n",
              "      <th>50%</th>\n",
              "      <th>75%</th>\n",
              "      <th>max</th>\n",
              "    </tr>\n",
              "  </thead>\n",
              "  <tbody>\n",
              "    <tr>\n",
              "      <th>Угол нашивки, град</th>\n",
              "      <td>818.0</td>\n",
              "      <td>43.899756</td>\n",
              "      <td>45.014071</td>\n",
              "      <td>0.000000</td>\n",
              "      <td>0.000000</td>\n",
              "      <td>0.000000</td>\n",
              "      <td>90.000000</td>\n",
              "      <td>90.000000</td>\n",
              "    </tr>\n",
              "    <tr>\n",
              "      <th>Шаг нашивки</th>\n",
              "      <td>818.0</td>\n",
              "      <td>6.879073</td>\n",
              "      <td>2.611603</td>\n",
              "      <td>0.037639</td>\n",
              "      <td>5.000000</td>\n",
              "      <td>6.943337</td>\n",
              "      <td>8.579164</td>\n",
              "      <td>14.440522</td>\n",
              "    </tr>\n",
              "    <tr>\n",
              "      <th>Плотность нашивки</th>\n",
              "      <td>818.0</td>\n",
              "      <td>57.288675</td>\n",
              "      <td>12.290801</td>\n",
              "      <td>11.740126</td>\n",
              "      <td>50.036793</td>\n",
              "      <td>57.328584</td>\n",
              "      <td>65.146638</td>\n",
              "      <td>103.988901</td>\n",
              "    </tr>\n",
              "    <tr>\n",
              "      <th>Соотношение матрица-наполнитель</th>\n",
              "      <td>818.0</td>\n",
              "      <td>2.943975</td>\n",
              "      <td>0.922190</td>\n",
              "      <td>0.389403</td>\n",
              "      <td>2.320191</td>\n",
              "      <td>2.919678</td>\n",
              "      <td>3.583641</td>\n",
              "      <td>5.591742</td>\n",
              "    </tr>\n",
              "    <tr>\n",
              "      <th>Плотность, кг/м3</th>\n",
              "      <td>818.0</td>\n",
              "      <td>1974.377546</td>\n",
              "      <td>74.987638</td>\n",
              "      <td>1731.764635</td>\n",
              "      <td>1922.343882</td>\n",
              "      <td>1975.555671</td>\n",
              "      <td>2021.186675</td>\n",
              "      <td>2207.773481</td>\n",
              "    </tr>\n",
              "    <tr>\n",
              "      <th>модуль упругости, ГПа</th>\n",
              "      <td>818.0</td>\n",
              "      <td>741.514342</td>\n",
              "      <td>329.799496</td>\n",
              "      <td>2.436909</td>\n",
              "      <td>502.628230</td>\n",
              "      <td>742.886633</td>\n",
              "      <td>966.871905</td>\n",
              "      <td>1911.536477</td>\n",
              "    </tr>\n",
              "    <tr>\n",
              "      <th>Количество отвердителя, м.%</th>\n",
              "      <td>818.0</td>\n",
              "      <td>111.192968</td>\n",
              "      <td>27.797189</td>\n",
              "      <td>29.956150</td>\n",
              "      <td>93.306043</td>\n",
              "      <td>111.507330</td>\n",
              "      <td>129.689233</td>\n",
              "      <td>198.953207</td>\n",
              "    </tr>\n",
              "    <tr>\n",
              "      <th>Содержание эпоксидных групп,%_2</th>\n",
              "      <td>818.0</td>\n",
              "      <td>22.249671</td>\n",
              "      <td>2.395012</td>\n",
              "      <td>14.254985</td>\n",
              "      <td>20.607747</td>\n",
              "      <td>22.267857</td>\n",
              "      <td>23.952628</td>\n",
              "      <td>33.000000</td>\n",
              "    </tr>\n",
              "    <tr>\n",
              "      <th>Температура вспышки, С_2</th>\n",
              "      <td>818.0</td>\n",
              "      <td>286.243917</td>\n",
              "      <td>41.283747</td>\n",
              "      <td>100.000000</td>\n",
              "      <td>260.274330</td>\n",
              "      <td>286.220763</td>\n",
              "      <td>313.518533</td>\n",
              "      <td>403.652861</td>\n",
              "    </tr>\n",
              "    <tr>\n",
              "      <th>Поверхностная плотность, г/м2</th>\n",
              "      <td>818.0</td>\n",
              "      <td>490.129423</td>\n",
              "      <td>280.043448</td>\n",
              "      <td>1.894093</td>\n",
              "      <td>273.012973</td>\n",
              "      <td>463.881777</td>\n",
              "      <td>697.683605</td>\n",
              "      <td>1399.542362</td>\n",
              "    </tr>\n",
              "    <tr>\n",
              "      <th>Модуль упругости при растяжении, ГПа</th>\n",
              "      <td>818.0</td>\n",
              "      <td>73.368702</td>\n",
              "      <td>3.091888</td>\n",
              "      <td>64.054061</td>\n",
              "      <td>71.337855</td>\n",
              "      <td>73.342472</td>\n",
              "      <td>75.486822</td>\n",
              "      <td>82.682051</td>\n",
              "    </tr>\n",
              "    <tr>\n",
              "      <th>Прочность при растяжении, МПа</th>\n",
              "      <td>818.0</td>\n",
              "      <td>2467.736562</td>\n",
              "      <td>475.680895</td>\n",
              "      <td>1036.856605</td>\n",
              "      <td>2148.096359</td>\n",
              "      <td>2457.959767</td>\n",
              "      <td>2759.418283</td>\n",
              "      <td>3848.436732</td>\n",
              "    </tr>\n",
              "    <tr>\n",
              "      <th>Потребление смолы, г/м2</th>\n",
              "      <td>818.0</td>\n",
              "      <td>217.257584</td>\n",
              "      <td>59.206795</td>\n",
              "      <td>33.803026</td>\n",
              "      <td>179.604490</td>\n",
              "      <td>217.277006</td>\n",
              "      <td>256.462864</td>\n",
              "      <td>414.590628</td>\n",
              "    </tr>\n",
              "  </tbody>\n",
              "</table>\n",
              "</div>\n",
              "      <button class=\"colab-df-convert\" onclick=\"convertToInteractive('df-8b862b0b-f830-427c-a37b-74e163cfb122')\"\n",
              "              title=\"Convert this dataframe to an interactive table.\"\n",
              "              style=\"display:none;\">\n",
              "        \n",
              "  <svg xmlns=\"http://www.w3.org/2000/svg\" height=\"24px\"viewBox=\"0 0 24 24\"\n",
              "       width=\"24px\">\n",
              "    <path d=\"M0 0h24v24H0V0z\" fill=\"none\"/>\n",
              "    <path d=\"M18.56 5.44l.94 2.06.94-2.06 2.06-.94-2.06-.94-.94-2.06-.94 2.06-2.06.94zm-11 1L8.5 8.5l.94-2.06 2.06-.94-2.06-.94L8.5 2.5l-.94 2.06-2.06.94zm10 10l.94 2.06.94-2.06 2.06-.94-2.06-.94-.94-2.06-.94 2.06-2.06.94z\"/><path d=\"M17.41 7.96l-1.37-1.37c-.4-.4-.92-.59-1.43-.59-.52 0-1.04.2-1.43.59L10.3 9.45l-7.72 7.72c-.78.78-.78 2.05 0 2.83L4 21.41c.39.39.9.59 1.41.59.51 0 1.02-.2 1.41-.59l7.78-7.78 2.81-2.81c.8-.78.8-2.07 0-2.86zM5.41 20L4 18.59l7.72-7.72 1.47 1.35L5.41 20z\"/>\n",
              "  </svg>\n",
              "      </button>\n",
              "      \n",
              "  <style>\n",
              "    .colab-df-container {\n",
              "      display:flex;\n",
              "      flex-wrap:wrap;\n",
              "      gap: 12px;\n",
              "    }\n",
              "\n",
              "    .colab-df-convert {\n",
              "      background-color: #E8F0FE;\n",
              "      border: none;\n",
              "      border-radius: 50%;\n",
              "      cursor: pointer;\n",
              "      display: none;\n",
              "      fill: #1967D2;\n",
              "      height: 32px;\n",
              "      padding: 0 0 0 0;\n",
              "      width: 32px;\n",
              "    }\n",
              "\n",
              "    .colab-df-convert:hover {\n",
              "      background-color: #E2EBFA;\n",
              "      box-shadow: 0px 1px 2px rgba(60, 64, 67, 0.3), 0px 1px 3px 1px rgba(60, 64, 67, 0.15);\n",
              "      fill: #174EA6;\n",
              "    }\n",
              "\n",
              "    [theme=dark] .colab-df-convert {\n",
              "      background-color: #3B4455;\n",
              "      fill: #D2E3FC;\n",
              "    }\n",
              "\n",
              "    [theme=dark] .colab-df-convert:hover {\n",
              "      background-color: #434B5C;\n",
              "      box-shadow: 0px 1px 3px 1px rgba(0, 0, 0, 0.15);\n",
              "      filter: drop-shadow(0px 1px 2px rgba(0, 0, 0, 0.3));\n",
              "      fill: #FFFFFF;\n",
              "    }\n",
              "  </style>\n",
              "\n",
              "      <script>\n",
              "        const buttonEl =\n",
              "          document.querySelector('#df-8b862b0b-f830-427c-a37b-74e163cfb122 button.colab-df-convert');\n",
              "        buttonEl.style.display =\n",
              "          google.colab.kernel.accessAllowed ? 'block' : 'none';\n",
              "\n",
              "        async function convertToInteractive(key) {\n",
              "          const element = document.querySelector('#df-8b862b0b-f830-427c-a37b-74e163cfb122');\n",
              "          const dataTable =\n",
              "            await google.colab.kernel.invokeFunction('convertToInteractive',\n",
              "                                                     [key], {});\n",
              "          if (!dataTable) return;\n",
              "\n",
              "          const docLinkHtml = 'Like what you see? Visit the ' +\n",
              "            '<a target=\"_blank\" href=https://colab.research.google.com/notebooks/data_table.ipynb>data table notebook</a>'\n",
              "            + ' to learn more about interactive tables.';\n",
              "          element.innerHTML = '';\n",
              "          dataTable['output_type'] = 'display_data';\n",
              "          await google.colab.output.renderOutput(dataTable, element);\n",
              "          const docLink = document.createElement('div');\n",
              "          docLink.innerHTML = docLinkHtml;\n",
              "          element.appendChild(docLink);\n",
              "        }\n",
              "      </script>\n",
              "    </div>\n",
              "  </div>\n",
              "  "
            ]
          },
          "metadata": {},
          "execution_count": 199
        }
      ],
      "source": [
        "train_dataset.describe().transpose()"
      ]
    },
    {
      "cell_type": "code",
      "execution_count": null,
      "metadata": {
        "id": "t2sluJdCW7jN"
      },
      "outputs": [],
      "source": [
        "train_features = train_dataset.copy()\n",
        "test_features = test_dataset.copy()\n",
        "\n",
        "train_labels = train_features.pop('Прочность при растяжении, МПа')\n",
        "test_labels = test_features.pop('Прочность при растяжении, МПа')"
      ]
    },
    {
      "cell_type": "markdown",
      "metadata": {
        "id": "mRklxK5s388r"
      },
      "source": [
        "## Normalization\n"
      ]
    },
    {
      "cell_type": "code",
      "execution_count": null,
      "metadata": {
        "id": "IcmY6lKKbkw8",
        "outputId": "3c8bd248-96f9-4310-a685-de89c1e053fc",
        "colab": {
          "base_uri": "https://localhost:8080/",
          "height": 452
        }
      },
      "outputs": [
        {
          "output_type": "execute_result",
          "data": {
            "text/plain": [
              "                                             mean         std\n",
              "Угол нашивки, град                      43.899756   45.014071\n",
              "Шаг нашивки                              6.879073    2.611603\n",
              "Плотность нашивки                       57.288675   12.290801\n",
              "Соотношение матрица-наполнитель          2.943975    0.922190\n",
              "Плотность, кг/м3                      1974.377546   74.987638\n",
              "модуль упругости, ГПа                  741.514342  329.799496\n",
              "Количество отвердителя, м.%            111.192968   27.797189\n",
              "Содержание эпоксидных групп,%_2         22.249671    2.395012\n",
              "Температура вспышки, С_2               286.243917   41.283747\n",
              "Поверхностная плотность, г/м2          490.129423  280.043448\n",
              "Модуль упругости при растяжении, ГПа    73.368702    3.091888\n",
              "Прочность при растяжении, МПа         2467.736562  475.680895\n",
              "Потребление смолы, г/м2                217.257584   59.206795"
            ],
            "text/html": [
              "\n",
              "  <div id=\"df-dc0a5486-8f44-4484-a489-6bbe548e2883\">\n",
              "    <div class=\"colab-df-container\">\n",
              "      <div>\n",
              "<style scoped>\n",
              "    .dataframe tbody tr th:only-of-type {\n",
              "        vertical-align: middle;\n",
              "    }\n",
              "\n",
              "    .dataframe tbody tr th {\n",
              "        vertical-align: top;\n",
              "    }\n",
              "\n",
              "    .dataframe thead th {\n",
              "        text-align: right;\n",
              "    }\n",
              "</style>\n",
              "<table border=\"1\" class=\"dataframe\">\n",
              "  <thead>\n",
              "    <tr style=\"text-align: right;\">\n",
              "      <th></th>\n",
              "      <th>mean</th>\n",
              "      <th>std</th>\n",
              "    </tr>\n",
              "  </thead>\n",
              "  <tbody>\n",
              "    <tr>\n",
              "      <th>Угол нашивки, град</th>\n",
              "      <td>43.899756</td>\n",
              "      <td>45.014071</td>\n",
              "    </tr>\n",
              "    <tr>\n",
              "      <th>Шаг нашивки</th>\n",
              "      <td>6.879073</td>\n",
              "      <td>2.611603</td>\n",
              "    </tr>\n",
              "    <tr>\n",
              "      <th>Плотность нашивки</th>\n",
              "      <td>57.288675</td>\n",
              "      <td>12.290801</td>\n",
              "    </tr>\n",
              "    <tr>\n",
              "      <th>Соотношение матрица-наполнитель</th>\n",
              "      <td>2.943975</td>\n",
              "      <td>0.922190</td>\n",
              "    </tr>\n",
              "    <tr>\n",
              "      <th>Плотность, кг/м3</th>\n",
              "      <td>1974.377546</td>\n",
              "      <td>74.987638</td>\n",
              "    </tr>\n",
              "    <tr>\n",
              "      <th>модуль упругости, ГПа</th>\n",
              "      <td>741.514342</td>\n",
              "      <td>329.799496</td>\n",
              "    </tr>\n",
              "    <tr>\n",
              "      <th>Количество отвердителя, м.%</th>\n",
              "      <td>111.192968</td>\n",
              "      <td>27.797189</td>\n",
              "    </tr>\n",
              "    <tr>\n",
              "      <th>Содержание эпоксидных групп,%_2</th>\n",
              "      <td>22.249671</td>\n",
              "      <td>2.395012</td>\n",
              "    </tr>\n",
              "    <tr>\n",
              "      <th>Температура вспышки, С_2</th>\n",
              "      <td>286.243917</td>\n",
              "      <td>41.283747</td>\n",
              "    </tr>\n",
              "    <tr>\n",
              "      <th>Поверхностная плотность, г/м2</th>\n",
              "      <td>490.129423</td>\n",
              "      <td>280.043448</td>\n",
              "    </tr>\n",
              "    <tr>\n",
              "      <th>Модуль упругости при растяжении, ГПа</th>\n",
              "      <td>73.368702</td>\n",
              "      <td>3.091888</td>\n",
              "    </tr>\n",
              "    <tr>\n",
              "      <th>Прочность при растяжении, МПа</th>\n",
              "      <td>2467.736562</td>\n",
              "      <td>475.680895</td>\n",
              "    </tr>\n",
              "    <tr>\n",
              "      <th>Потребление смолы, г/м2</th>\n",
              "      <td>217.257584</td>\n",
              "      <td>59.206795</td>\n",
              "    </tr>\n",
              "  </tbody>\n",
              "</table>\n",
              "</div>\n",
              "      <button class=\"colab-df-convert\" onclick=\"convertToInteractive('df-dc0a5486-8f44-4484-a489-6bbe548e2883')\"\n",
              "              title=\"Convert this dataframe to an interactive table.\"\n",
              "              style=\"display:none;\">\n",
              "        \n",
              "  <svg xmlns=\"http://www.w3.org/2000/svg\" height=\"24px\"viewBox=\"0 0 24 24\"\n",
              "       width=\"24px\">\n",
              "    <path d=\"M0 0h24v24H0V0z\" fill=\"none\"/>\n",
              "    <path d=\"M18.56 5.44l.94 2.06.94-2.06 2.06-.94-2.06-.94-.94-2.06-.94 2.06-2.06.94zm-11 1L8.5 8.5l.94-2.06 2.06-.94-2.06-.94L8.5 2.5l-.94 2.06-2.06.94zm10 10l.94 2.06.94-2.06 2.06-.94-2.06-.94-.94-2.06-.94 2.06-2.06.94z\"/><path d=\"M17.41 7.96l-1.37-1.37c-.4-.4-.92-.59-1.43-.59-.52 0-1.04.2-1.43.59L10.3 9.45l-7.72 7.72c-.78.78-.78 2.05 0 2.83L4 21.41c.39.39.9.59 1.41.59.51 0 1.02-.2 1.41-.59l7.78-7.78 2.81-2.81c.8-.78.8-2.07 0-2.86zM5.41 20L4 18.59l7.72-7.72 1.47 1.35L5.41 20z\"/>\n",
              "  </svg>\n",
              "      </button>\n",
              "      \n",
              "  <style>\n",
              "    .colab-df-container {\n",
              "      display:flex;\n",
              "      flex-wrap:wrap;\n",
              "      gap: 12px;\n",
              "    }\n",
              "\n",
              "    .colab-df-convert {\n",
              "      background-color: #E8F0FE;\n",
              "      border: none;\n",
              "      border-radius: 50%;\n",
              "      cursor: pointer;\n",
              "      display: none;\n",
              "      fill: #1967D2;\n",
              "      height: 32px;\n",
              "      padding: 0 0 0 0;\n",
              "      width: 32px;\n",
              "    }\n",
              "\n",
              "    .colab-df-convert:hover {\n",
              "      background-color: #E2EBFA;\n",
              "      box-shadow: 0px 1px 2px rgba(60, 64, 67, 0.3), 0px 1px 3px 1px rgba(60, 64, 67, 0.15);\n",
              "      fill: #174EA6;\n",
              "    }\n",
              "\n",
              "    [theme=dark] .colab-df-convert {\n",
              "      background-color: #3B4455;\n",
              "      fill: #D2E3FC;\n",
              "    }\n",
              "\n",
              "    [theme=dark] .colab-df-convert:hover {\n",
              "      background-color: #434B5C;\n",
              "      box-shadow: 0px 1px 3px 1px rgba(0, 0, 0, 0.15);\n",
              "      filter: drop-shadow(0px 1px 2px rgba(0, 0, 0, 0.3));\n",
              "      fill: #FFFFFF;\n",
              "    }\n",
              "  </style>\n",
              "\n",
              "      <script>\n",
              "        const buttonEl =\n",
              "          document.querySelector('#df-dc0a5486-8f44-4484-a489-6bbe548e2883 button.colab-df-convert');\n",
              "        buttonEl.style.display =\n",
              "          google.colab.kernel.accessAllowed ? 'block' : 'none';\n",
              "\n",
              "        async function convertToInteractive(key) {\n",
              "          const element = document.querySelector('#df-dc0a5486-8f44-4484-a489-6bbe548e2883');\n",
              "          const dataTable =\n",
              "            await google.colab.kernel.invokeFunction('convertToInteractive',\n",
              "                                                     [key], {});\n",
              "          if (!dataTable) return;\n",
              "\n",
              "          const docLinkHtml = 'Like what you see? Visit the ' +\n",
              "            '<a target=\"_blank\" href=https://colab.research.google.com/notebooks/data_table.ipynb>data table notebook</a>'\n",
              "            + ' to learn more about interactive tables.';\n",
              "          element.innerHTML = '';\n",
              "          dataTable['output_type'] = 'display_data';\n",
              "          await google.colab.output.renderOutput(dataTable, element);\n",
              "          const docLink = document.createElement('div');\n",
              "          docLink.innerHTML = docLinkHtml;\n",
              "          element.appendChild(docLink);\n",
              "        }\n",
              "      </script>\n",
              "    </div>\n",
              "  </div>\n",
              "  "
            ]
          },
          "metadata": {},
          "execution_count": 201
        }
      ],
      "source": [
        "train_dataset.describe().transpose()[['mean', 'std']]"
      ]
    },
    {
      "cell_type": "markdown",
      "metadata": {
        "id": "aFJ6ISropeoo"
      },
      "source": [
        "### The Normalization layer\n"
      ]
    },
    {
      "cell_type": "code",
      "execution_count": null,
      "metadata": {
        "id": "JlC5ooJrgjQF"
      },
      "outputs": [],
      "source": [
        "normalizer = tf.keras.layers.Normalization(axis=-1)"
      ]
    },
    {
      "cell_type": "code",
      "execution_count": null,
      "metadata": {
        "id": "CrBbbjbwV91f"
      },
      "outputs": [],
      "source": [
        "normalizer.adapt(np.array(train_features))"
      ]
    },
    {
      "cell_type": "code",
      "execution_count": null,
      "metadata": {
        "id": "GGn-ukwxSPtx",
        "outputId": "cd4f33b9-094a-4d96-f1d9-bf43f0344135",
        "colab": {
          "base_uri": "https://localhost:8080/"
        }
      },
      "outputs": [
        {
          "output_type": "stream",
          "name": "stdout",
          "text": [
            "[[  43.9      6.879   57.289    2.944 1974.377  741.514  111.193   22.25\n",
            "   286.244  490.129   73.369  217.258]]\n"
          ]
        }
      ],
      "source": [
        "print(normalizer.mean.numpy())"
      ]
    },
    {
      "cell_type": "code",
      "execution_count": null,
      "metadata": {
        "id": "2l7zFL_XWIRu",
        "outputId": "e58f4b6a-6626-417c-ca5c-fa44061e4ceb",
        "colab": {
          "base_uri": "https://localhost:8080/"
        }
      },
      "outputs": [
        {
          "output_type": "stream",
          "name": "stdout",
          "text": [
            "First example: [[  90.      7.01   66.17    1.42 1977.62  123.73  135.71   18.52  318.44\n",
            "   171.68   72.97  131.88]]\n",
            "\n",
            "Normalized: [[ 1.02  0.05  0.72 -1.65  0.04 -1.87  0.88 -1.56  0.78 -1.14 -0.13 -1.44]]\n"
          ]
        }
      ],
      "source": [
        "first = np.array(train_features[:1])\n",
        "\n",
        "with np.printoptions(precision=2, suppress=True):\n",
        "  print('First example:', first)\n",
        "  print()\n",
        "  print('Normalized:', normalizer(first).numpy())"
      ]
    },
    {
      "cell_type": "markdown",
      "metadata": {
        "id": "6o3CrycBXA2s"
      },
      "source": [
        "## Linear regression\n"
      ]
    },
    {
      "cell_type": "markdown",
      "metadata": {
        "id": "lFby9n0tnHkw"
      },
      "source": [
        "### Linear regression с одной переменной"
      ]
    },
    {
      "cell_type": "code",
      "execution_count": null,
      "metadata": {
        "id": "1gJAy0fKs1TS"
      },
      "outputs": [],
      "source": [
        "filler_matrix = np.array(train_features['Соотношение матрица-наполнитель'])\n",
        "\n",
        "filler_matrix_normalizer = layers.Normalization(input_shape=[1,], axis=None)\n",
        "filler_matrix_normalizer.adapt(filler_matrix)"
      ]
    },
    {
      "cell_type": "code",
      "execution_count": null,
      "metadata": {
        "id": "c0sXM7qLlKfZ",
        "colab": {
          "base_uri": "https://localhost:8080/"
        },
        "outputId": "eba5d772-98af-43d2-9b45-4759c795cc32"
      },
      "outputs": [
        {
          "output_type": "stream",
          "name": "stdout",
          "text": [
            "Model: \"sequential_14\"\n",
            "_________________________________________________________________\n",
            " Layer (type)                Output Shape              Param #   \n",
            "=================================================================\n",
            " normalization_7 (Normalizat  (None, 1)                3         \n",
            " ion)                                                            \n",
            "                                                                 \n",
            " dense_28 (Dense)            (None, 1)                 2         \n",
            "                                                                 \n",
            "=================================================================\n",
            "Total params: 5\n",
            "Trainable params: 2\n",
            "Non-trainable params: 3\n",
            "_________________________________________________________________\n"
          ]
        }
      ],
      "source": [
        "filler_matrix_model = tf.keras.Sequential([\n",
        "    filler_matrix_normalizer,\n",
        "    layers.Dense(units=1)\n",
        "])\n",
        "\n",
        "filler_matrix_model.summary()"
      ]
    },
    {
      "cell_type": "markdown",
      "metadata": {
        "id": "eObQu9fDnXGL"
      },
      "source": [
        "\\This model will predict `'Прочность при растяжении, МПа'` from `'Соотношение матрица-наполнитель'`.\n"
      ]
    },
    {
      "cell_type": "code",
      "execution_count": null,
      "metadata": {
        "id": "UfV1HS6bns-s",
        "colab": {
          "base_uri": "https://localhost:8080/"
        },
        "outputId": "fb677b3d-dfa2-4bae-e958-79a303866778"
      },
      "outputs": [
        {
          "output_type": "execute_result",
          "data": {
            "text/plain": [
              "array([[ 2.497],\n",
              "       [-0.594],\n",
              "       [-0.036],\n",
              "       [-2.231],\n",
              "       [-0.598],\n",
              "       [ 1.786],\n",
              "       [ 1.442],\n",
              "       [ 2.399],\n",
              "       [ 0.042],\n",
              "       [-0.012]], dtype=float32)"
            ]
          },
          "metadata": {},
          "execution_count": 159
        }
      ],
      "source": [
        "filler_matrix_model.predict(filler_matrix[:10])"
      ]
    },
    {
      "cell_type": "code",
      "execution_count": null,
      "metadata": {
        "id": "JxA_3lpOm-SK"
      },
      "outputs": [],
      "source": [
        "filler_matrix_model.compile(\n",
        "    optimizer=tf.optimizers.Adam(learning_rate=0.1),\n",
        "    loss='mean_absolute_error')"
      ]
    },
    {
      "cell_type": "code",
      "execution_count": null,
      "metadata": {
        "id": "-iSrNy59nRAp",
        "colab": {
          "base_uri": "https://localhost:8080/"
        },
        "outputId": "03640378-634c-4d99-9ce5-e0e2b575de0c"
      },
      "outputs": [
        {
          "output_type": "stream",
          "name": "stdout",
          "text": [
            "CPU times: user 5.83 s, sys: 296 ms, total: 6.13 s\n",
            "Wall time: 5.93 s\n"
          ]
        }
      ],
      "source": [
        "%%time\n",
        "history = filler_matrix_model.fit(\n",
        "    train_features['Соотношение матрица-наполнитель'],\n",
        "    train_labels,\n",
        "    epochs=100,\n",
        "    verbose=0,\n",
        "    # Calculate validation results on 20% of the training data.\n",
        "    validation_split = 0.2)"
      ]
    },
    {
      "cell_type": "code",
      "execution_count": null,
      "metadata": {
        "id": "YCAwD_y4AdC3",
        "colab": {
          "base_uri": "https://localhost:8080/",
          "height": 204
        },
        "outputId": "40e47fbe-abad-433b-d9e9-dc515b952a35"
      },
      "outputs": [
        {
          "output_type": "execute_result",
          "data": {
            "text/plain": [
              "           loss     val_loss  epoch\n",
              "95  2266.863281  2267.724609     95\n",
              "96  2264.767090  2265.627197     96\n",
              "97  2262.663330  2263.528320     97\n",
              "98  2260.561523  2261.425781     98\n",
              "99  2258.464111  2259.326904     99"
            ],
            "text/html": [
              "\n",
              "  <div id=\"df-1812f1aa-2848-4b79-82cd-c11cfb8cbf0e\">\n",
              "    <div class=\"colab-df-container\">\n",
              "      <div>\n",
              "<style scoped>\n",
              "    .dataframe tbody tr th:only-of-type {\n",
              "        vertical-align: middle;\n",
              "    }\n",
              "\n",
              "    .dataframe tbody tr th {\n",
              "        vertical-align: top;\n",
              "    }\n",
              "\n",
              "    .dataframe thead th {\n",
              "        text-align: right;\n",
              "    }\n",
              "</style>\n",
              "<table border=\"1\" class=\"dataframe\">\n",
              "  <thead>\n",
              "    <tr style=\"text-align: right;\">\n",
              "      <th></th>\n",
              "      <th>loss</th>\n",
              "      <th>val_loss</th>\n",
              "      <th>epoch</th>\n",
              "    </tr>\n",
              "  </thead>\n",
              "  <tbody>\n",
              "    <tr>\n",
              "      <th>95</th>\n",
              "      <td>2266.863281</td>\n",
              "      <td>2267.724609</td>\n",
              "      <td>95</td>\n",
              "    </tr>\n",
              "    <tr>\n",
              "      <th>96</th>\n",
              "      <td>2264.767090</td>\n",
              "      <td>2265.627197</td>\n",
              "      <td>96</td>\n",
              "    </tr>\n",
              "    <tr>\n",
              "      <th>97</th>\n",
              "      <td>2262.663330</td>\n",
              "      <td>2263.528320</td>\n",
              "      <td>97</td>\n",
              "    </tr>\n",
              "    <tr>\n",
              "      <th>98</th>\n",
              "      <td>2260.561523</td>\n",
              "      <td>2261.425781</td>\n",
              "      <td>98</td>\n",
              "    </tr>\n",
              "    <tr>\n",
              "      <th>99</th>\n",
              "      <td>2258.464111</td>\n",
              "      <td>2259.326904</td>\n",
              "      <td>99</td>\n",
              "    </tr>\n",
              "  </tbody>\n",
              "</table>\n",
              "</div>\n",
              "      <button class=\"colab-df-convert\" onclick=\"convertToInteractive('df-1812f1aa-2848-4b79-82cd-c11cfb8cbf0e')\"\n",
              "              title=\"Convert this dataframe to an interactive table.\"\n",
              "              style=\"display:none;\">\n",
              "        \n",
              "  <svg xmlns=\"http://www.w3.org/2000/svg\" height=\"24px\"viewBox=\"0 0 24 24\"\n",
              "       width=\"24px\">\n",
              "    <path d=\"M0 0h24v24H0V0z\" fill=\"none\"/>\n",
              "    <path d=\"M18.56 5.44l.94 2.06.94-2.06 2.06-.94-2.06-.94-.94-2.06-.94 2.06-2.06.94zm-11 1L8.5 8.5l.94-2.06 2.06-.94-2.06-.94L8.5 2.5l-.94 2.06-2.06.94zm10 10l.94 2.06.94-2.06 2.06-.94-2.06-.94-.94-2.06-.94 2.06-2.06.94z\"/><path d=\"M17.41 7.96l-1.37-1.37c-.4-.4-.92-.59-1.43-.59-.52 0-1.04.2-1.43.59L10.3 9.45l-7.72 7.72c-.78.78-.78 2.05 0 2.83L4 21.41c.39.39.9.59 1.41.59.51 0 1.02-.2 1.41-.59l7.78-7.78 2.81-2.81c.8-.78.8-2.07 0-2.86zM5.41 20L4 18.59l7.72-7.72 1.47 1.35L5.41 20z\"/>\n",
              "  </svg>\n",
              "      </button>\n",
              "      \n",
              "  <style>\n",
              "    .colab-df-container {\n",
              "      display:flex;\n",
              "      flex-wrap:wrap;\n",
              "      gap: 12px;\n",
              "    }\n",
              "\n",
              "    .colab-df-convert {\n",
              "      background-color: #E8F0FE;\n",
              "      border: none;\n",
              "      border-radius: 50%;\n",
              "      cursor: pointer;\n",
              "      display: none;\n",
              "      fill: #1967D2;\n",
              "      height: 32px;\n",
              "      padding: 0 0 0 0;\n",
              "      width: 32px;\n",
              "    }\n",
              "\n",
              "    .colab-df-convert:hover {\n",
              "      background-color: #E2EBFA;\n",
              "      box-shadow: 0px 1px 2px rgba(60, 64, 67, 0.3), 0px 1px 3px 1px rgba(60, 64, 67, 0.15);\n",
              "      fill: #174EA6;\n",
              "    }\n",
              "\n",
              "    [theme=dark] .colab-df-convert {\n",
              "      background-color: #3B4455;\n",
              "      fill: #D2E3FC;\n",
              "    }\n",
              "\n",
              "    [theme=dark] .colab-df-convert:hover {\n",
              "      background-color: #434B5C;\n",
              "      box-shadow: 0px 1px 3px 1px rgba(0, 0, 0, 0.15);\n",
              "      filter: drop-shadow(0px 1px 2px rgba(0, 0, 0, 0.3));\n",
              "      fill: #FFFFFF;\n",
              "    }\n",
              "  </style>\n",
              "\n",
              "      <script>\n",
              "        const buttonEl =\n",
              "          document.querySelector('#df-1812f1aa-2848-4b79-82cd-c11cfb8cbf0e button.colab-df-convert');\n",
              "        buttonEl.style.display =\n",
              "          google.colab.kernel.accessAllowed ? 'block' : 'none';\n",
              "\n",
              "        async function convertToInteractive(key) {\n",
              "          const element = document.querySelector('#df-1812f1aa-2848-4b79-82cd-c11cfb8cbf0e');\n",
              "          const dataTable =\n",
              "            await google.colab.kernel.invokeFunction('convertToInteractive',\n",
              "                                                     [key], {});\n",
              "          if (!dataTable) return;\n",
              "\n",
              "          const docLinkHtml = 'Like what you see? Visit the ' +\n",
              "            '<a target=\"_blank\" href=https://colab.research.google.com/notebooks/data_table.ipynb>data table notebook</a>'\n",
              "            + ' to learn more about interactive tables.';\n",
              "          element.innerHTML = '';\n",
              "          dataTable['output_type'] = 'display_data';\n",
              "          await google.colab.output.renderOutput(dataTable, element);\n",
              "          const docLink = document.createElement('div');\n",
              "          docLink.innerHTML = docLinkHtml;\n",
              "          element.appendChild(docLink);\n",
              "        }\n",
              "      </script>\n",
              "    </div>\n",
              "  </div>\n",
              "  "
            ]
          },
          "metadata": {},
          "execution_count": 210
        }
      ],
      "source": [
        "hist = pd.DataFrame(history.history)\n",
        "hist['epoch'] = history.epoch\n",
        "hist.tail()"
      ]
    },
    {
      "cell_type": "code",
      "execution_count": null,
      "metadata": {
        "id": "9E54UoZunqhc"
      },
      "outputs": [],
      "source": [
        "def plot_loss(history):\n",
        "  plt.plot(history.history['loss'], label='loss')\n",
        "  plt.plot(history.history['val_loss'], label='val_loss')\n",
        "\n",
        "  plt.xlabel('Epoch')\n",
        "  plt.ylabel('Error [Прочность при растяжении, МПа]')\n",
        "  plt.legend()\n",
        "  plt.grid(True)"
      ]
    },
    {
      "cell_type": "code",
      "execution_count": null,
      "metadata": {
        "id": "yYsQYrIZyqjz",
        "colab": {
          "base_uri": "https://localhost:8080/",
          "height": 279
        },
        "outputId": "dd131c8c-870b-4c36-b69b-743b4cdfc46e"
      },
      "outputs": [
        {
          "output_type": "display_data",
          "data": {
            "text/plain": [
              "<Figure size 432x288 with 1 Axes>"
            ],
            "image/png": "[encoded data removed]"
          },
          "metadata": {
            "needs_background": "light"
          }
        }
      ],
      "source": [
        "plot_loss(history)"
      ]
    },
    {
      "cell_type": "code",
      "execution_count": null,
      "metadata": {
        "id": "kDZ8EvNYrDtx"
      },
      "outputs": [],
      "source": [
        "test_results = {}\n",
        "\n",
        "test_results['filler_matrix_model'] = filler_matrix_model.evaluate(\n",
        "    test_features['Соотношение матрица-наполнитель'],\n",
        "    test_labels, verbose=0)"
      ]
    },
    {
      "cell_type": "code",
      "execution_count": null,
      "metadata": {
        "id": "xDS2JEtOn9Jn"
      },
      "outputs": [],
      "source": [
        "x = tf.linspace(0.0, 250, 251)\n",
        "y = filler_matrix_model.predict(x)"
      ]
    },
    {
      "cell_type": "code",
      "execution_count": null,
      "metadata": {
        "id": "rttFCTU8czsI"
      },
      "outputs": [],
      "source": [
        "def plot_filler_matrix(x, y):\n",
        "  plt.scatter(train_features['Соотношение матрица-наполнитель'], train_labels, label='Data')\n",
        "  plt.plot(x, y, color='k', label='Predictions')\n",
        "  plt.xlabel('Соотношение матрица-наполнитель')\n",
        "  plt.ylabel('Прочность при растяжении, МПа')\n",
        "  \n",
        "  plt.legend()"
      ]
    },
    {
      "cell_type": "code",
      "execution_count": null,
      "metadata": {
        "id": "7l9ZiAOEUNBL",
        "colab": {
          "base_uri": "https://localhost:8080/",
          "height": 281
        },
        "outputId": "88c1f7f8-b4c4-48d9-94b1-72a1b5734624"
      },
      "outputs": [
        {
          "output_type": "display_data",
          "data": {
            "text/plain": [
              "<Figure size 432x288 with 1 Axes>"
            ],
            "image/png": "[encoded data removed]"
          },
          "metadata": {
            "needs_background": "light"
          }
        }
      ],
      "source": [
        "plot_filler_matrix(x, y)"
      ]
    },
    {
      "cell_type": "markdown",
      "metadata": {
        "id": "Yk2RmlqPoM9u"
      },
      "source": [
        "### Linear regression с несколькими входами"
      ]
    },
    {
      "cell_type": "code",
      "execution_count": null,
      "metadata": {
        "id": "ssnVcKg7oMe6"
      },
      "outputs": [],
      "source": [
        "linear_model = tf.keras.Sequential([\n",
        "    normalizer,\n",
        "    layers.Dense(units=1)\n",
        "])"
      ]
    },
    {
      "cell_type": "code",
      "execution_count": null,
      "metadata": {
        "id": "DynfJV18WiuT",
        "colab": {
          "base_uri": "https://localhost:8080/"
        },
        "outputId": "d0f4c95b-c46b-419f-d3c9-7f5d0adeb363"
      },
      "outputs": [
        {
          "output_type": "execute_result",
          "data": {
            "text/plain": [
              "array([[-2.27 ],\n",
              "       [-1.849],\n",
              "       [ 1.379],\n",
              "       [ 0.767],\n",
              "       [ 3.26 ],\n",
              "       [ 0.048],\n",
              "       [-0.909],\n",
              "       [-1.286],\n",
              "       [-2.417],\n",
              "       [-0.571]], dtype=float32)"
            ]
          },
          "metadata": {},
          "execution_count": 217
        }
      ],
      "source": [
        "linear_model.predict(train_features[:10])"
      ]
    },
    {
      "cell_type": "code",
      "execution_count": null,
      "metadata": {
        "id": "DwJ4Fq0RXBQf",
        "colab": {
          "base_uri": "https://localhost:8080/"
        },
        "outputId": "39c89ef8-fd3a-4bbe-becd-88777da15b65"
      },
      "outputs": [
        {
          "output_type": "execute_result",
          "data": {
            "text/plain": [
              "<tf.Variable 'dense_29/kernel:0' shape=(12, 1) dtype=float32, numpy=\n",
              "array([[-0.56 ],\n",
              "       [ 0.583],\n",
              "       [-0.152],\n",
              "       [-0.089],\n",
              "       [-0.673],\n",
              "       [ 0.649],\n",
              "       [-0.358],\n",
              "       [ 0.425],\n",
              "       [ 0.399],\n",
              "       [ 0.295],\n",
              "       [ 0.136],\n",
              "       [-0.35 ]], dtype=float32)>"
            ]
          },
          "metadata": {},
          "execution_count": 218
        }
      ],
      "source": [
        "linear_model.layers[1].kernel"
      ]
    },
    {
      "cell_type": "code",
      "execution_count": null,
      "metadata": {
        "id": "A0Sv_Ybr0szp"
      },
      "outputs": [],
      "source": [
        "linear_model.compile(\n",
        "    optimizer=tf.optimizers.Adam(learning_rate=0.1),\n",
        "    loss='mean_absolute_error')"
      ]
    },
    {
      "cell_type": "code",
      "execution_count": null,
      "metadata": {
        "id": "EZoOYORvoTSe",
        "colab": {
          "base_uri": "https://localhost:8080/"
        },
        "outputId": "8f1ff759-adf6-464f-ac17-87993df0c6bc"
      },
      "outputs": [
        {
          "output_type": "stream",
          "name": "stdout",
          "text": [
            "CPU times: user 5.94 s, sys: 352 ms, total: 6.29 s\n",
            "Wall time: 6.19 s\n"
          ]
        }
      ],
      "source": [
        "%%time\n",
        "history = linear_model.fit(\n",
        "    train_features,\n",
        "    train_labels,\n",
        "    epochs=100,\n",
        "    # Suppress logging.\n",
        "    verbose=0,\n",
        "    # Calculate validation results on 20% of the training data.\n",
        "    validation_split = 0.2)"
      ]
    },
    {
      "cell_type": "code",
      "execution_count": null,
      "metadata": {
        "id": "4sWO3W0koYgu",
        "colab": {
          "base_uri": "https://localhost:8080/",
          "height": 279
        },
        "outputId": "fba73d16-d949-4e4c-9694-0a3a928f32ae"
      },
      "outputs": [
        {
          "output_type": "display_data",
          "data": {
            "text/plain": [
              "<Figure size 432x288 with 1 Axes>"
            ],
            "image/png": "[encoded data removed]"
          },
          "metadata": {
            "needs_background": "light"
          }
        }
      ],
      "source": [
        "plot_loss(history)"
      ]
    },
    {
      "cell_type": "code",
      "execution_count": null,
      "metadata": {
        "id": "jNC3D1DGsGgK"
      },
      "outputs": [],
      "source": [
        "test_results['linear_model'] = linear_model.evaluate(\n",
        "    test_features, test_labels, verbose=0)"
      ]
    },
    {
      "cell_type": "code",
      "execution_count": null,
      "metadata": {
        "id": "c26juK7ZG8j-"
      },
      "outputs": [],
      "source": [
        "def build_and_compile_model(norm):\n",
        "  model = keras.Sequential([\n",
        "      norm,\n",
        "      layers.Dense(64, activation='relu'),\n",
        "      layers.Dense(64, activation='relu'),\n",
        "      layers.Dense(1)\n",
        "  ])\n",
        "\n",
        "  model.compile(loss='mean_absolute_error',\n",
        "                optimizer=tf.keras.optimizers.Adam(0.001))\n",
        "  return model"
      ]
    },
    {
      "cell_type": "code",
      "execution_count": null,
      "metadata": {
        "id": "cGbPb-PHGbhs"
      },
      "outputs": [],
      "source": [
        "dnn_filler_matrix_model = build_and_compile_model(filler_matrix_normalizer)"
      ]
    },
    {
      "cell_type": "code",
      "execution_count": null,
      "metadata": {
        "id": "ReAD0n6MsFK-",
        "colab": {
          "base_uri": "https://localhost:8080/"
        },
        "outputId": "b34c5b58-82fa-4b6f-9b74-ecbc9e74b911"
      },
      "outputs": [
        {
          "output_type": "stream",
          "name": "stdout",
          "text": [
            "Model: \"sequential_16\"\n",
            "_________________________________________________________________\n",
            " Layer (type)                Output Shape              Param #   \n",
            "=================================================================\n",
            " normalization_7 (Normalizat  (None, 1)                3         \n",
            " ion)                                                            \n",
            "                                                                 \n",
            " dense_30 (Dense)            (None, 64)                128       \n",
            "                                                                 \n",
            " dense_31 (Dense)            (None, 64)                4160      \n",
            "                                                                 \n",
            " dense_32 (Dense)            (None, 1)                 65        \n",
            "                                                                 \n",
            "=================================================================\n",
            "Total params: 4,356\n",
            "Trainable params: 4,353\n",
            "Non-trainable params: 3\n",
            "_________________________________________________________________\n"
          ]
        }
      ],
      "source": [
        "dnn_filler_matrix_model.summary()"
      ]
    },
    {
      "cell_type": "code",
      "execution_count": null,
      "metadata": {
        "id": "sD7qHCmNIOY0",
        "colab": {
          "base_uri": "https://localhost:8080/"
        },
        "outputId": "91bf6422-46d5-42ed-89e1-fac7fcc8fc9a"
      },
      "outputs": [
        {
          "output_type": "stream",
          "name": "stdout",
          "text": [
            "CPU times: user 6.97 s, sys: 454 ms, total: 7.42 s\n",
            "Wall time: 7.06 s\n"
          ]
        }
      ],
      "source": [
        "%%time\n",
        "history = dnn_filler_matrix_model.fit(\n",
        "    train_features['Соотношение матрица-наполнитель'],\n",
        "    train_labels,\n",
        "    validation_split=0.2,\n",
        "    verbose=0, epochs=100)"
      ]
    },
    {
      "cell_type": "code",
      "execution_count": null,
      "metadata": {
        "id": "NcF6UWjdCU8T",
        "colab": {
          "base_uri": "https://localhost:8080/",
          "height": 279
        },
        "outputId": "2364f85e-ea7a-44ae-f96d-a25de4f671c4"
      },
      "outputs": [
        {
          "output_type": "display_data",
          "data": {
            "text/plain": [
              "<Figure size 432x288 with 1 Axes>"
            ],
            "image/png": "[encoded data removed]"
          },
          "metadata": {
            "needs_background": "light"
          }
        }
      ],
      "source": [
        "plot_loss(history)"
      ]
    },
    {
      "cell_type": "code",
      "execution_count": null,
      "metadata": {
        "id": "hPF53Rem14NS"
      },
      "outputs": [],
      "source": [
        "x = tf.linspace(0.0, 250, 251)\n",
        "y = dnn_filler_matrix_model.predict(x)"
      ]
    },
    {
      "cell_type": "code",
      "execution_count": null,
      "metadata": {
        "id": "rsf9rD8I17Wq",
        "colab": {
          "base_uri": "https://localhost:8080/",
          "height": 279
        },
        "outputId": "36638bbc-32e3-417b-c0ce-28efdd215301"
      },
      "outputs": [
        {
          "output_type": "display_data",
          "data": {
            "text/plain": [
              "<Figure size 432x288 with 1 Axes>"
            ],
            "image/png": "[encoded data removed]"
          },
          "metadata": {
            "needs_background": "light"
          }
        }
      ],
      "source": [
        "plot_filler_matrix(x, y)"
      ]
    },
    {
      "cell_type": "code",
      "execution_count": null,
      "metadata": {
        "id": "bJjM0dU52XtN"
      },
      "outputs": [],
      "source": [
        "test_results['dnn_filler_matrix_model'] = dnn_filler_matrix_model.evaluate(\n",
        "    test_features['Соотношение матрица-наполнитель'], test_labels,\n",
        "    verbose=0)"
      ]
    },
    {
      "cell_type": "code",
      "execution_count": null,
      "metadata": {
        "id": "c0mhscXh2k36",
        "colab": {
          "base_uri": "https://localhost:8080/"
        },
        "outputId": "8523e7bd-01dc-4a7e-c74a-d6af508f65a5"
      },
      "outputs": [
        {
          "output_type": "stream",
          "name": "stdout",
          "text": [
            "Model: \"sequential_17\"\n",
            "_________________________________________________________________\n",
            " Layer (type)                Output Shape              Param #   \n",
            "=================================================================\n",
            " normalization_6 (Normalizat  (None, 12)               25        \n",
            " ion)                                                            \n",
            "                                                                 \n",
            " dense_33 (Dense)            (None, 64)                832       \n",
            "                                                                 \n",
            " dense_34 (Dense)            (None, 64)                4160      \n",
            "                                                                 \n",
            " dense_35 (Dense)            (None, 1)                 65        \n",
            "                                                                 \n",
            "=================================================================\n",
            "Total params: 5,082\n",
            "Trainable params: 5,057\n",
            "Non-trainable params: 25\n",
            "_________________________________________________________________\n"
          ]
        }
      ],
      "source": [
        "dnn_model = build_and_compile_model(normalizer)\n",
        "dnn_model.summary()"
      ]
    },
    {
      "cell_type": "code",
      "execution_count": null,
      "metadata": {
        "id": "CXDENACl2tuW",
        "colab": {
          "base_uri": "https://localhost:8080/"
        },
        "outputId": "6dede79c-1ed7-4069-d8bf-4396839fc4ed"
      },
      "outputs": [
        {
          "output_type": "stream",
          "name": "stdout",
          "text": [
            "CPU times: user 7.43 s, sys: 456 ms, total: 7.89 s\n",
            "Wall time: 10.7 s\n"
          ]
        }
      ],
      "source": [
        "%%time\n",
        "history = dnn_model.fit(\n",
        "    train_features,\n",
        "    train_labels,\n",
        "    validation_split=0.2,\n",
        "    verbose=0, epochs=100)"
      ]
    },
    {
      "cell_type": "code",
      "execution_count": null,
      "metadata": {
        "id": "-9Dbj0fX23RQ",
        "colab": {
          "base_uri": "https://localhost:8080/",
          "height": 279
        },
        "outputId": "ab103790-1279-41ef-d59a-eab562f5d5ce"
      },
      "outputs": [
        {
          "output_type": "display_data",
          "data": {
            "text/plain": [
              "<Figure size 432x288 with 1 Axes>"
            ],
            "image/png": "[encoded data removed]"
          },
          "metadata": {
            "needs_background": "light"
          }
        }
      ],
      "source": [
        "plot_loss(history)"
      ]
    },
    {
      "cell_type": "code",
      "execution_count": null,
      "metadata": {
        "id": "-bZIa96W3c7K"
      },
      "outputs": [],
      "source": [
        "test_results['dnn_model'] = dnn_model.evaluate(test_features, test_labels, verbose=0)"
      ]
    },
    {
      "cell_type": "code",
      "execution_count": null,
      "metadata": {
        "id": "e5_ooufM5iH2",
        "colab": {
          "base_uri": "https://localhost:8080/",
          "height": 173
        },
        "outputId": "4cc4f221-6700-41ce-c075-d09eca532ebe"
      },
      "outputs": [
        {
          "output_type": "execute_result",
          "data": {
            "text/plain": [
              "                         Mean absolute error [Прочность при растяжении, МПа]\n",
              "filler_matrix_model                                            2254.113770  \n",
              "linear_model                                                   2254.833008  \n",
              "dnn_filler_matrix_model                                         412.811737  \n",
              "dnn_model                                                       460.868622  "
            ],
            "text/html": [
              "\n",
              "  <div id=\"df-ae76d4e5-9739-4ac0-ab71-f67e198c19d5\">\n",
              "    <div class=\"colab-df-container\">\n",
              "      <div>\n",
              "<style scoped>\n",
              "    .dataframe tbody tr th:only-of-type {\n",
              "        vertical-align: middle;\n",
              "    }\n",
              "\n",
              "    .dataframe tbody tr th {\n",
              "        vertical-align: top;\n",
              "    }\n",
              "\n",
              "    .dataframe thead th {\n",
              "        text-align: right;\n",
              "    }\n",
              "</style>\n",
              "<table border=\"1\" class=\"dataframe\">\n",
              "  <thead>\n",
              "    <tr style=\"text-align: right;\">\n",
              "      <th></th>\n",
              "      <th>Mean absolute error [Прочность при растяжении, МПа]</th>\n",
              "    </tr>\n",
              "  </thead>\n",
              "  <tbody>\n",
              "    <tr>\n",
              "      <th>filler_matrix_model</th>\n",
              "      <td>2254.113770</td>\n",
              "    </tr>\n",
              "    <tr>\n",
              "      <th>linear_model</th>\n",
              "      <td>2254.833008</td>\n",
              "    </tr>\n",
              "    <tr>\n",
              "      <th>dnn_filler_matrix_model</th>\n",
              "      <td>412.811737</td>\n",
              "    </tr>\n",
              "    <tr>\n",
              "      <th>dnn_model</th>\n",
              "      <td>460.868622</td>\n",
              "    </tr>\n",
              "  </tbody>\n",
              "</table>\n",
              "</div>\n",
              "      <button class=\"colab-df-convert\" onclick=\"convertToInteractive('df-ae76d4e5-9739-4ac0-ab71-f67e198c19d5')\"\n",
              "              title=\"Convert this dataframe to an interactive table.\"\n",
              "              style=\"display:none;\">\n",
              "        \n",
              "  <svg xmlns=\"http://www.w3.org/2000/svg\" height=\"24px\"viewBox=\"0 0 24 24\"\n",
              "       width=\"24px\">\n",
              "    <path d=\"M0 0h24v24H0V0z\" fill=\"none\"/>\n",
              "    <path d=\"M18.56 5.44l.94 2.06.94-2.06 2.06-.94-2.06-.94-.94-2.06-.94 2.06-2.06.94zm-11 1L8.5 8.5l.94-2.06 2.06-.94-2.06-.94L8.5 2.5l-.94 2.06-2.06.94zm10 10l.94 2.06.94-2.06 2.06-.94-2.06-.94-.94-2.06-.94 2.06-2.06.94z\"/><path d=\"M17.41 7.96l-1.37-1.37c-.4-.4-.92-.59-1.43-.59-.52 0-1.04.2-1.43.59L10.3 9.45l-7.72 7.72c-.78.78-.78 2.05 0 2.83L4 21.41c.39.39.9.59 1.41.59.51 0 1.02-.2 1.41-.59l7.78-7.78 2.81-2.81c.8-.78.8-2.07 0-2.86zM5.41 20L4 18.59l7.72-7.72 1.47 1.35L5.41 20z\"/>\n",
              "  </svg>\n",
              "      </button>\n",
              "      \n",
              "  <style>\n",
              "    .colab-df-container {\n",
              "      display:flex;\n",
              "      flex-wrap:wrap;\n",
              "      gap: 12px;\n",
              "    }\n",
              "\n",
              "    .colab-df-convert {\n",
              "      background-color: #E8F0FE;\n",
              "      border: none;\n",
              "      border-radius: 50%;\n",
              "      cursor: pointer;\n",
              "      display: none;\n",
              "      fill: #1967D2;\n",
              "      height: 32px;\n",
              "      padding: 0 0 0 0;\n",
              "      width: 32px;\n",
              "    }\n",
              "\n",
              "    .colab-df-convert:hover {\n",
              "      background-color: #E2EBFA;\n",
              "      box-shadow: 0px 1px 2px rgba(60, 64, 67, 0.3), 0px 1px 3px 1px rgba(60, 64, 67, 0.15);\n",
              "      fill: #174EA6;\n",
              "    }\n",
              "\n",
              "    [theme=dark] .colab-df-convert {\n",
              "      background-color: #3B4455;\n",
              "      fill: #D2E3FC;\n",
              "    }\n",
              "\n",
              "    [theme=dark] .colab-df-convert:hover {\n",
              "      background-color: #434B5C;\n",
              "      box-shadow: 0px 1px 3px 1px rgba(0, 0, 0, 0.15);\n",
              "      filter: drop-shadow(0px 1px 2px rgba(0, 0, 0, 0.3));\n",
              "      fill: #FFFFFF;\n",
              "    }\n",
              "  </style>\n",
              "\n",
              "      <script>\n",
              "        const buttonEl =\n",
              "          document.querySelector('#df-ae76d4e5-9739-4ac0-ab71-f67e198c19d5 button.colab-df-convert');\n",
              "        buttonEl.style.display =\n",
              "          google.colab.kernel.accessAllowed ? 'block' : 'none';\n",
              "\n",
              "        async function convertToInteractive(key) {\n",
              "          const element = document.querySelector('#df-ae76d4e5-9739-4ac0-ab71-f67e198c19d5');\n",
              "          const dataTable =\n",
              "            await google.colab.kernel.invokeFunction('convertToInteractive',\n",
              "                                                     [key], {});\n",
              "          if (!dataTable) return;\n",
              "\n",
              "          const docLinkHtml = 'Like what you see? Visit the ' +\n",
              "            '<a target=\"_blank\" href=https://colab.research.google.com/notebooks/data_table.ipynb>data table notebook</a>'\n",
              "            + ' to learn more about interactive tables.';\n",
              "          element.innerHTML = '';\n",
              "          dataTable['output_type'] = 'display_data';\n",
              "          await google.colab.output.renderOutput(dataTable, element);\n",
              "          const docLink = document.createElement('div');\n",
              "          docLink.innerHTML = docLinkHtml;\n",
              "          element.appendChild(docLink);\n",
              "        }\n",
              "      </script>\n",
              "    </div>\n",
              "  </div>\n",
              "  "
            ]
          },
          "metadata": {},
          "execution_count": 236
        }
      ],
      "source": [
        "pd.DataFrame(test_results, index=['Mean absolute error [Прочность при растяжении, МПа]']).T"
      ]
    },
    {
      "cell_type": "code",
      "execution_count": null,
      "metadata": {
        "id": "Xe7RXH3N3CWU",
        "colab": {
          "base_uri": "https://localhost:8080/",
          "height": 291
        },
        "outputId": "808133d5-8998-432e-801d-bc757b16a1c7"
      },
      "outputs": [
        {
          "output_type": "display_data",
          "data": {
            "text/plain": [
              "<Figure size 432x288 with 1 Axes>"
            ],
            "image/png": "[encoded data removed]"
          },
          "metadata": {
            "needs_background": "light"
          }
        }
      ],
      "source": [
        "test_predictions = dnn_model.predict(test_features).flatten()\n",
        "\n",
        "a = plt.axes(aspect='equal')\n",
        "plt.scatter(test_labels, test_predictions)\n",
        "plt.xlabel('True Values [Прочность при растяжении, МПа]')\n",
        "plt.ylabel('Predictions [Прочность при растяжении, МПа]')\n",
        "_ = plt.plot(lims, lims)\n"
      ]
    },
    {
      "cell_type": "code",
      "execution_count": null,
      "metadata": {
        "id": "f-OHX4DiXd8x",
        "colab": {
          "base_uri": "https://localhost:8080/",
          "height": 279
        },
        "outputId": "b562b27b-3b66-4582-b1f8-345b7b89611c"
      },
      "outputs": [
        {
          "output_type": "display_data",
          "data": {
            "text/plain": [
              "<Figure size 432x288 with 1 Axes>"
            ],
            "image/png": "[encoded data removed]"
          },
          "metadata": {
            "needs_background": "light"
          }
        }
      ],
      "source": [
        "error = test_predictions - test_labels\n",
        "plt.hist(error, bins=25)\n",
        "plt.xlabel('Prediction Error [Прочность при растяжении, МПа]')\n",
        "_ = plt.ylabel('Count')"
      ]
    },
    {
      "cell_type": "code",
      "execution_count": null,
      "metadata": {
        "id": "4-WwLlmfT-mb",
        "colab": {
          "base_uri": "https://localhost:8080/"
        },
        "outputId": "2de69780-11d4-4fd3-92e5-197891c5c94c"
      },
      "outputs": [
        {
          "output_type": "stream",
          "name": "stdout",
          "text": [
            "INFO:tensorflow:Assets written to: dnn_model/assets\n"
          ]
        }
      ],
      "source": [
        "dnn_model.save('dnn_model')"
      ]
    },
    {
      "cell_type": "code",
      "execution_count": null,
      "metadata": {
        "id": "dyyyj2zVT-mf"
      },
      "outputs": [],
      "source": [
        "reloaded = tf.keras.models.load_model('dnn_model')\n",
        "\n",
        "test_results['reloaded'] = reloaded.evaluate(\n",
        "    test_features, test_labels, verbose=0)"
      ]
    },
    {
      "cell_type": "code",
      "execution_count": null,
      "metadata": {
        "id": "f_GchJ2tg-2o",
        "colab": {
          "base_uri": "https://localhost:8080/",
          "height": 204
        },
        "outputId": "3d565c48-61a6-4fa7-ace4-be5745be83d3"
      },
      "outputs": [
        {
          "output_type": "execute_result",
          "data": {
            "text/plain": [
              "                         Mean absolute error [Прочность при растяжении, МПа]\n",
              "filler_matrix_model                                            2254.113770  \n",
              "linear_model                                                   2254.833008  \n",
              "dnn_filler_matrix_model                                         412.811737  \n",
              "dnn_model                                                       460.868622  \n",
              "reloaded                                                        460.868622  "
            ],
            "text/html": [
              "\n",
              "  <div id=\"df-c1691c52-a8c6-4a1c-a722-618bb57abaa7\">\n",
              "    <div class=\"colab-df-container\">\n",
              "      <div>\n",
              "<style scoped>\n",
              "    .dataframe tbody tr th:only-of-type {\n",
              "        vertical-align: middle;\n",
              "    }\n",
              "\n",
              "    .dataframe tbody tr th {\n",
              "        vertical-align: top;\n",
              "    }\n",
              "\n",
              "    .dataframe thead th {\n",
              "        text-align: right;\n",
              "    }\n",
              "</style>\n",
              "<table border=\"1\" class=\"dataframe\">\n",
              "  <thead>\n",
              "    <tr style=\"text-align: right;\">\n",
              "      <th></th>\n",
              "      <th>Mean absolute error [Прочность при растяжении, МПа]</th>\n",
              "    </tr>\n",
              "  </thead>\n",
              "  <tbody>\n",
              "    <tr>\n",
              "      <th>filler_matrix_model</th>\n",
              "      <td>2254.113770</td>\n",
              "    </tr>\n",
              "    <tr>\n",
              "      <th>linear_model</th>\n",
              "      <td>2254.833008</td>\n",
              "    </tr>\n",
              "    <tr>\n",
              "      <th>dnn_filler_matrix_model</th>\n",
              "      <td>412.811737</td>\n",
              "    </tr>\n",
              "    <tr>\n",
              "      <th>dnn_model</th>\n",
              "      <td>460.868622</td>\n",
              "    </tr>\n",
              "    <tr>\n",
              "      <th>reloaded</th>\n",
              "      <td>460.868622</td>\n",
              "    </tr>\n",
              "  </tbody>\n",
              "</table>\n",
              "</div>\n",
              "      <button class=\"colab-df-convert\" onclick=\"convertToInteractive('df-c1691c52-a8c6-4a1c-a722-618bb57abaa7')\"\n",
              "              title=\"Convert this dataframe to an interactive table.\"\n",
              "              style=\"display:none;\">\n",
              "        \n",
              "  <svg xmlns=\"http://www.w3.org/2000/svg\" height=\"24px\"viewBox=\"0 0 24 24\"\n",
              "       width=\"24px\">\n",
              "    <path d=\"M0 0h24v24H0V0z\" fill=\"none\"/>\n",
              "    <path d=\"M18.56 5.44l.94 2.06.94-2.06 2.06-.94-2.06-.94-.94-2.06-.94 2.06-2.06.94zm-11 1L8.5 8.5l.94-2.06 2.06-.94-2.06-.94L8.5 2.5l-.94 2.06-2.06.94zm10 10l.94 2.06.94-2.06 2.06-.94-2.06-.94-.94-2.06-.94 2.06-2.06.94z\"/><path d=\"M17.41 7.96l-1.37-1.37c-.4-.4-.92-.59-1.43-.59-.52 0-1.04.2-1.43.59L10.3 9.45l-7.72 7.72c-.78.78-.78 2.05 0 2.83L4 21.41c.39.39.9.59 1.41.59.51 0 1.02-.2 1.41-.59l7.78-7.78 2.81-2.81c.8-.78.8-2.07 0-2.86zM5.41 20L4 18.59l7.72-7.72 1.47 1.35L5.41 20z\"/>\n",
              "  </svg>\n",
              "      </button>\n",
              "      \n",
              "  <style>\n",
              "    .colab-df-container {\n",
              "      display:flex;\n",
              "      flex-wrap:wrap;\n",
              "      gap: 12px;\n",
              "    }\n",
              "\n",
              "    .colab-df-convert {\n",
              "      background-color: #E8F0FE;\n",
              "      border: none;\n",
              "      border-radius: 50%;\n",
              "      cursor: pointer;\n",
              "      display: none;\n",
              "      fill: #1967D2;\n",
              "      height: 32px;\n",
              "      padding: 0 0 0 0;\n",
              "      width: 32px;\n",
              "    }\n",
              "\n",
              "    .colab-df-convert:hover {\n",
              "      background-color: #E2EBFA;\n",
              "      box-shadow: 0px 1px 2px rgba(60, 64, 67, 0.3), 0px 1px 3px 1px rgba(60, 64, 67, 0.15);\n",
              "      fill: #174EA6;\n",
              "    }\n",
              "\n",
              "    [theme=dark] .colab-df-convert {\n",
              "      background-color: #3B4455;\n",
              "      fill: #D2E3FC;\n",
              "    }\n",
              "\n",
              "    [theme=dark] .colab-df-convert:hover {\n",
              "      background-color: #434B5C;\n",
              "      box-shadow: 0px 1px 3px 1px rgba(0, 0, 0, 0.15);\n",
              "      filter: drop-shadow(0px 1px 2px rgba(0, 0, 0, 0.3));\n",
              "      fill: #FFFFFF;\n",
              "    }\n",
              "  </style>\n",
              "\n",
              "      <script>\n",
              "        const buttonEl =\n",
              "          document.querySelector('#df-c1691c52-a8c6-4a1c-a722-618bb57abaa7 button.colab-df-convert');\n",
              "        buttonEl.style.display =\n",
              "          google.colab.kernel.accessAllowed ? 'block' : 'none';\n",
              "\n",
              "        async function convertToInteractive(key) {\n",
              "          const element = document.querySelector('#df-c1691c52-a8c6-4a1c-a722-618bb57abaa7');\n",
              "          const dataTable =\n",
              "            await google.colab.kernel.invokeFunction('convertToInteractive',\n",
              "                                                     [key], {});\n",
              "          if (!dataTable) return;\n",
              "\n",
              "          const docLinkHtml = 'Like what you see? Visit the ' +\n",
              "            '<a target=\"_blank\" href=https://colab.research.google.com/notebooks/data_table.ipynb>data table notebook</a>'\n",
              "            + ' to learn more about interactive tables.';\n",
              "          element.innerHTML = '';\n",
              "          dataTable['output_type'] = 'display_data';\n",
              "          await google.colab.output.renderOutput(dataTable, element);\n",
              "          const docLink = document.createElement('div');\n",
              "          docLink.innerHTML = docLinkHtml;\n",
              "          element.appendChild(docLink);\n",
              "        }\n",
              "      </script>\n",
              "    </div>\n",
              "  </div>\n",
              "  "
            ]
          },
          "metadata": {},
          "execution_count": 241
        }
      ],
      "source": [
        "pd.DataFrame(test_results, index=['Mean absolute error [Прочность при растяжении, МПа]']).T"
      ]
    }
  ],
  "metadata": {
    "colab": {
      "collapsed_sections": [],
      "name": "Копия блокнота \"regression.ipynb\"",
      "provenance": []
    },
    "kernelspec": {
      "display_name": "Python 3",
      "name": "python3"
    }
  },
  "nbformat": 4,
  "nbformat_minor": 0
}