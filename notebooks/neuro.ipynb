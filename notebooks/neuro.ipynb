{
 "cells": [
  {
   "cell_type": "code",
   "execution_count": 8,
   "metadata": {},
   "outputs": [
    {
     "name": "stderr",
     "output_type": "stream",
     "text": [
      "Using TensorFlow backend.\n"
     ]
    }
   ],
   "source": [
    "import pandas as pd\n",
    "\n",
    "from sklearn.model_selection import train_test_split\n",
    "\n",
    "from tensorflow import keras\n",
    "from keras.models import Sequential \n",
    "from keras.layers import Dense\n",
    "\n",
    "import numpy as np"
   ]
  },
  {
   "cell_type": "code",
   "execution_count": 9,
   "metadata": {},
   "outputs": [
    {
     "data": {
      "text/html": [
       "<div>\n",
       "<style scoped>\n",
       "    .dataframe tbody tr th:only-of-type {\n",
       "        vertical-align: middle;\n",
       "    }\n",
       "\n",
       "    .dataframe tbody tr th {\n",
       "        vertical-align: top;\n",
       "    }\n",
       "\n",
       "    .dataframe thead th {\n",
       "        text-align: right;\n",
       "    }\n",
       "</style>\n",
       "<table border=\"1\" class=\"dataframe\">\n",
       "  <thead>\n",
       "    <tr style=\"text-align: right;\">\n",
       "      <th></th>\n",
       "      <th>Угол нашивки, град</th>\n",
       "      <th>Шаг нашивки</th>\n",
       "      <th>Плотность нашивки</th>\n",
       "      <th>Соотношение матрица-наполнитель</th>\n",
       "      <th>Плотность, кг/м3</th>\n",
       "      <th>модуль упругости, ГПа</th>\n",
       "      <th>Количество отвердителя, м.%</th>\n",
       "      <th>Содержание эпоксидных групп,%_2</th>\n",
       "      <th>Температура вспышки, С_2</th>\n",
       "      <th>Поверхностная плотность, г/м2</th>\n",
       "      <th>Модуль упругости при растяжении, ГПа</th>\n",
       "      <th>Прочность при растяжении, МПа</th>\n",
       "      <th>Потребление смолы, г/м2</th>\n",
       "    </tr>\n",
       "    <tr>\n",
       "      <th>ИНДЕКС 1</th>\n",
       "      <th></th>\n",
       "      <th></th>\n",
       "      <th></th>\n",
       "      <th></th>\n",
       "      <th></th>\n",
       "      <th></th>\n",
       "      <th></th>\n",
       "      <th></th>\n",
       "      <th></th>\n",
       "      <th></th>\n",
       "      <th></th>\n",
       "      <th></th>\n",
       "      <th></th>\n",
       "    </tr>\n",
       "  </thead>\n",
       "  <tbody>\n",
       "    <tr>\n",
       "      <th>0</th>\n",
       "      <td>0</td>\n",
       "      <td>4.0</td>\n",
       "      <td>57.0</td>\n",
       "      <td>1.857143</td>\n",
       "      <td>2030.0</td>\n",
       "      <td>738.736842</td>\n",
       "      <td>30.0</td>\n",
       "      <td>22.267857</td>\n",
       "      <td>100.000000</td>\n",
       "      <td>210.0</td>\n",
       "      <td>70.0</td>\n",
       "      <td>3000.0</td>\n",
       "      <td>220.0</td>\n",
       "    </tr>\n",
       "    <tr>\n",
       "      <th>1</th>\n",
       "      <td>0</td>\n",
       "      <td>4.0</td>\n",
       "      <td>60.0</td>\n",
       "      <td>1.857143</td>\n",
       "      <td>2030.0</td>\n",
       "      <td>738.736842</td>\n",
       "      <td>50.0</td>\n",
       "      <td>23.750000</td>\n",
       "      <td>284.615385</td>\n",
       "      <td>210.0</td>\n",
       "      <td>70.0</td>\n",
       "      <td>3000.0</td>\n",
       "      <td>220.0</td>\n",
       "    </tr>\n",
       "    <tr>\n",
       "      <th>2</th>\n",
       "      <td>0</td>\n",
       "      <td>4.0</td>\n",
       "      <td>70.0</td>\n",
       "      <td>1.857143</td>\n",
       "      <td>2030.0</td>\n",
       "      <td>738.736842</td>\n",
       "      <td>49.9</td>\n",
       "      <td>33.000000</td>\n",
       "      <td>284.615385</td>\n",
       "      <td>210.0</td>\n",
       "      <td>70.0</td>\n",
       "      <td>3000.0</td>\n",
       "      <td>220.0</td>\n",
       "    </tr>\n",
       "  </tbody>\n",
       "</table>\n",
       "</div>"
      ],
      "text/plain": [
       "          Угол нашивки, град  Шаг нашивки  Плотность нашивки  \\\n",
       "ИНДЕКС 1                                                       \n",
       "0                          0          4.0               57.0   \n",
       "1                          0          4.0               60.0   \n",
       "2                          0          4.0               70.0   \n",
       "\n",
       "          Соотношение матрица-наполнитель  Плотность, кг/м3  \\\n",
       "ИНДЕКС 1                                                      \n",
       "0                                1.857143            2030.0   \n",
       "1                                1.857143            2030.0   \n",
       "2                                1.857143            2030.0   \n",
       "\n",
       "          модуль упругости, ГПа  Количество отвердителя, м.%  \\\n",
       "ИНДЕКС 1                                                       \n",
       "0                    738.736842                         30.0   \n",
       "1                    738.736842                         50.0   \n",
       "2                    738.736842                         49.9   \n",
       "\n",
       "          Содержание эпоксидных групп,%_2  Температура вспышки, С_2  \\\n",
       "ИНДЕКС 1                                                              \n",
       "0                               22.267857                100.000000   \n",
       "1                               23.750000                284.615385   \n",
       "2                               33.000000                284.615385   \n",
       "\n",
       "          Поверхностная плотность, г/м2  Модуль упругости при растяжении, ГПа  \\\n",
       "ИНДЕКС 1                                                                        \n",
       "0                                 210.0                                  70.0   \n",
       "1                                 210.0                                  70.0   \n",
       "2                                 210.0                                  70.0   \n",
       "\n",
       "          Прочность при растяжении, МПа  Потребление смолы, г/м2  \n",
       "ИНДЕКС 1                                                          \n",
       "0                                3000.0                    220.0  \n",
       "1                                3000.0                    220.0  \n",
       "2                                3000.0                    220.0  "
      ]
     },
     "execution_count": 9,
     "metadata": {},
     "output_type": "execute_result"
    }
   ],
   "source": [
    "df = pd.read_excel('../data/join.xls', index_col=0)\n",
    "df.head(3)"
   ]
  },
  {
   "cell_type": "code",
   "execution_count": 10,
   "metadata": {},
   "outputs": [
    {
     "data": {
      "text/html": [
       "<div>\n",
       "<style scoped>\n",
       "    .dataframe tbody tr th:only-of-type {\n",
       "        vertical-align: middle;\n",
       "    }\n",
       "\n",
       "    .dataframe tbody tr th {\n",
       "        vertical-align: top;\n",
       "    }\n",
       "\n",
       "    .dataframe thead th {\n",
       "        text-align: right;\n",
       "    }\n",
       "</style>\n",
       "<table border=\"1\" class=\"dataframe\">\n",
       "  <thead>\n",
       "    <tr style=\"text-align: right;\">\n",
       "      <th></th>\n",
       "      <th>Шаг нашивки</th>\n",
       "      <th>Плотность нашивки</th>\n",
       "      <th>Соотношение матрица-наполнитель</th>\n",
       "      <th>Плотность, кг/м3</th>\n",
       "      <th>модуль упругости, ГПа</th>\n",
       "      <th>Количество отвердителя, м.%</th>\n",
       "      <th>Содержание эпоксидных групп,%_2</th>\n",
       "      <th>Температура вспышки, С_2</th>\n",
       "      <th>Поверхностная плотность, г/м2</th>\n",
       "      <th>Модуль упругости при растяжении, ГПа</th>\n",
       "      <th>Прочность при растяжении, МПа</th>\n",
       "    </tr>\n",
       "    <tr>\n",
       "      <th>ИНДЕКС 1</th>\n",
       "      <th></th>\n",
       "      <th></th>\n",
       "      <th></th>\n",
       "      <th></th>\n",
       "      <th></th>\n",
       "      <th></th>\n",
       "      <th></th>\n",
       "      <th></th>\n",
       "      <th></th>\n",
       "      <th></th>\n",
       "      <th></th>\n",
       "    </tr>\n",
       "  </thead>\n",
       "  <tbody>\n",
       "    <tr>\n",
       "      <th>0</th>\n",
       "      <td>4.0</td>\n",
       "      <td>57.0</td>\n",
       "      <td>1.857143</td>\n",
       "      <td>2030.0</td>\n",
       "      <td>738.736842</td>\n",
       "      <td>30.0</td>\n",
       "      <td>22.267857</td>\n",
       "      <td>100.000000</td>\n",
       "      <td>210.0</td>\n",
       "      <td>70.0</td>\n",
       "      <td>3000.0</td>\n",
       "    </tr>\n",
       "    <tr>\n",
       "      <th>1</th>\n",
       "      <td>4.0</td>\n",
       "      <td>60.0</td>\n",
       "      <td>1.857143</td>\n",
       "      <td>2030.0</td>\n",
       "      <td>738.736842</td>\n",
       "      <td>50.0</td>\n",
       "      <td>23.750000</td>\n",
       "      <td>284.615385</td>\n",
       "      <td>210.0</td>\n",
       "      <td>70.0</td>\n",
       "      <td>3000.0</td>\n",
       "    </tr>\n",
       "    <tr>\n",
       "      <th>2</th>\n",
       "      <td>4.0</td>\n",
       "      <td>70.0</td>\n",
       "      <td>1.857143</td>\n",
       "      <td>2030.0</td>\n",
       "      <td>738.736842</td>\n",
       "      <td>49.9</td>\n",
       "      <td>33.000000</td>\n",
       "      <td>284.615385</td>\n",
       "      <td>210.0</td>\n",
       "      <td>70.0</td>\n",
       "      <td>3000.0</td>\n",
       "    </tr>\n",
       "  </tbody>\n",
       "</table>\n",
       "</div>"
      ],
      "text/plain": [
       "          Шаг нашивки  Плотность нашивки  Соотношение матрица-наполнитель  \\\n",
       "ИНДЕКС 1                                                                    \n",
       "0                 4.0               57.0                         1.857143   \n",
       "1                 4.0               60.0                         1.857143   \n",
       "2                 4.0               70.0                         1.857143   \n",
       "\n",
       "          Плотность, кг/м3  модуль упругости, ГПа  \\\n",
       "ИНДЕКС 1                                            \n",
       "0                   2030.0             738.736842   \n",
       "1                   2030.0             738.736842   \n",
       "2                   2030.0             738.736842   \n",
       "\n",
       "          Количество отвердителя, м.%  Содержание эпоксидных групп,%_2  \\\n",
       "ИНДЕКС 1                                                                 \n",
       "0                                30.0                        22.267857   \n",
       "1                                50.0                        23.750000   \n",
       "2                                49.9                        33.000000   \n",
       "\n",
       "          Температура вспышки, С_2  Поверхностная плотность, г/м2  \\\n",
       "ИНДЕКС 1                                                            \n",
       "0                       100.000000                          210.0   \n",
       "1                       284.615385                          210.0   \n",
       "2                       284.615385                          210.0   \n",
       "\n",
       "          Модуль упругости при растяжении, ГПа  Прочность при растяжении, МПа  \n",
       "ИНДЕКС 1                                                                       \n",
       "0                                         70.0                         3000.0  \n",
       "1                                         70.0                         3000.0  \n",
       "2                                         70.0                         3000.0  "
      ]
     },
     "execution_count": 10,
     "metadata": {},
     "output_type": "execute_result"
    }
   ],
   "source": [
    "df.drop(['Угол нашивки, град', 'Потребление смолы, г/м2'], axis=1, inplace=True)\n",
    "df = df.dropna()\n",
    "df.head(3)"
   ]
  },
  {
   "cell_type": "code",
   "execution_count": 11,
   "metadata": {},
   "outputs": [
    {
     "data": {
      "text/plain": [
       "(1023, 10)"
      ]
     },
     "execution_count": 11,
     "metadata": {},
     "output_type": "execute_result"
    }
   ],
   "source": [
    "y = df['Модуль упругости при растяжении, ГПа']\n",
    "\n",
    "X = df.iloc[:, 1:]\n",
    "X = X.astype(float)\n",
    "X.shape"
   ]
  },
  {
   "cell_type": "code",
   "execution_count": 12,
   "metadata": {},
   "outputs": [
    {
     "data": {
      "text/plain": [
       "(1023,)"
      ]
     },
     "execution_count": 12,
     "metadata": {},
     "output_type": "execute_result"
    }
   ],
   "source": [
    "y.shape"
   ]
  },
  {
   "cell_type": "code",
   "execution_count": 13,
   "metadata": {},
   "outputs": [
    {
     "data": {
      "text/plain": [
       "(716, 10)"
      ]
     },
     "execution_count": 13,
     "metadata": {},
     "output_type": "execute_result"
    }
   ],
   "source": [
    "X_train, X_test, y_train, y_test = train_test_split(X, y, test_size=0.3)\n",
    "X_train.shape"
   ]
  },
  {
   "cell_type": "code",
   "execution_count": 14,
   "metadata": {},
   "outputs": [
    {
     "data": {
      "text/html": [
       "<div>\n",
       "<style scoped>\n",
       "    .dataframe tbody tr th:only-of-type {\n",
       "        vertical-align: middle;\n",
       "    }\n",
       "\n",
       "    .dataframe tbody tr th {\n",
       "        vertical-align: top;\n",
       "    }\n",
       "\n",
       "    .dataframe thead th {\n",
       "        text-align: right;\n",
       "    }\n",
       "</style>\n",
       "<table border=\"1\" class=\"dataframe\">\n",
       "  <thead>\n",
       "    <tr style=\"text-align: right;\">\n",
       "      <th></th>\n",
       "      <th>Плотность нашивки</th>\n",
       "      <th>Соотношение матрица-наполнитель</th>\n",
       "      <th>Плотность, кг/м3</th>\n",
       "      <th>модуль упругости, ГПа</th>\n",
       "      <th>Количество отвердителя, м.%</th>\n",
       "      <th>Содержание эпоксидных групп,%_2</th>\n",
       "      <th>Температура вспышки, С_2</th>\n",
       "      <th>Поверхностная плотность, г/м2</th>\n",
       "      <th>Модуль упругости при растяжении, ГПа</th>\n",
       "      <th>Прочность при растяжении, МПа</th>\n",
       "    </tr>\n",
       "    <tr>\n",
       "      <th>ИНДЕКС 1</th>\n",
       "      <th></th>\n",
       "      <th></th>\n",
       "      <th></th>\n",
       "      <th></th>\n",
       "      <th></th>\n",
       "      <th></th>\n",
       "      <th></th>\n",
       "      <th></th>\n",
       "      <th></th>\n",
       "      <th></th>\n",
       "    </tr>\n",
       "  </thead>\n",
       "  <tbody>\n",
       "    <tr>\n",
       "      <th>176</th>\n",
       "      <td>82.723681</td>\n",
       "      <td>2.213130</td>\n",
       "      <td>2107.861060</td>\n",
       "      <td>343.053795</td>\n",
       "      <td>74.386505</td>\n",
       "      <td>23.075890</td>\n",
       "      <td>277.080676</td>\n",
       "      <td>105.477725</td>\n",
       "      <td>71.329574</td>\n",
       "      <td>2667.109248</td>\n",
       "    </tr>\n",
       "    <tr>\n",
       "      <th>399</th>\n",
       "      <td>63.561645</td>\n",
       "      <td>3.027069</td>\n",
       "      <td>2095.716754</td>\n",
       "      <td>920.762817</td>\n",
       "      <td>105.778668</td>\n",
       "      <td>20.532135</td>\n",
       "      <td>244.476593</td>\n",
       "      <td>859.432338</td>\n",
       "      <td>72.429467</td>\n",
       "      <td>2844.655510</td>\n",
       "    </tr>\n",
       "    <tr>\n",
       "      <th>1000</th>\n",
       "      <td>71.960542</td>\n",
       "      <td>3.109130</td>\n",
       "      <td>2019.939791</td>\n",
       "      <td>855.877168</td>\n",
       "      <td>125.654249</td>\n",
       "      <td>22.788022</td>\n",
       "      <td>323.766318</td>\n",
       "      <td>585.456532</td>\n",
       "      <td>82.525773</td>\n",
       "      <td>2715.953011</td>\n",
       "    </tr>\n",
       "  </tbody>\n",
       "</table>\n",
       "</div>"
      ],
      "text/plain": [
       "          Плотность нашивки  Соотношение матрица-наполнитель  \\\n",
       "ИНДЕКС 1                                                       \n",
       "176               82.723681                         2.213130   \n",
       "399               63.561645                         3.027069   \n",
       "1000              71.960542                         3.109130   \n",
       "\n",
       "          Плотность, кг/м3  модуль упругости, ГПа  \\\n",
       "ИНДЕКС 1                                            \n",
       "176            2107.861060             343.053795   \n",
       "399            2095.716754             920.762817   \n",
       "1000           2019.939791             855.877168   \n",
       "\n",
       "          Количество отвердителя, м.%  Содержание эпоксидных групп,%_2  \\\n",
       "ИНДЕКС 1                                                                 \n",
       "176                         74.386505                        23.075890   \n",
       "399                        105.778668                        20.532135   \n",
       "1000                       125.654249                        22.788022   \n",
       "\n",
       "          Температура вспышки, С_2  Поверхностная плотность, г/м2  \\\n",
       "ИНДЕКС 1                                                            \n",
       "176                     277.080676                     105.477725   \n",
       "399                     244.476593                     859.432338   \n",
       "1000                    323.766318                     585.456532   \n",
       "\n",
       "          Модуль упругости при растяжении, ГПа  Прочность при растяжении, МПа  \n",
       "ИНДЕКС 1                                                                       \n",
       "176                                  71.329574                    2667.109248  \n",
       "399                                  72.429467                    2844.655510  \n",
       "1000                                 82.525773                    2715.953011  "
      ]
     },
     "execution_count": 14,
     "metadata": {},
     "output_type": "execute_result"
    }
   ],
   "source": [
    "X_train.head(3)"
   ]
  },
  {
   "cell_type": "code",
   "execution_count": 15,
   "metadata": {},
   "outputs": [
    {
     "data": {
      "text/plain": [
       "ИНДЕКС 1\n",
       "176     71.329574\n",
       "399     72.429467\n",
       "1000    82.525773\n",
       "Name: Модуль упругости при растяжении, ГПа, dtype: float64"
      ]
     },
     "execution_count": 15,
     "metadata": {},
     "output_type": "execute_result"
    }
   ],
   "source": [
    "y_train.head(3)"
   ]
  },
  {
   "cell_type": "code",
   "execution_count": 57,
   "metadata": {},
   "outputs": [
    {
     "name": "stdout",
     "output_type": "stream",
     "text": [
      "_________________________________________________________________\n",
      "Layer (type)                 Output Shape              Param #   \n",
      "=================================================================\n",
      "dense_21 (Dense)             (None, 9)                 99        \n",
      "_________________________________________________________________\n",
      "dense_22 (Dense)             (None, 9)                 90        \n",
      "_________________________________________________________________\n",
      "dense_23 (Dense)             (None, 5)                 50        \n",
      "_________________________________________________________________\n",
      "dense_24 (Dense)             (None, 1)                 6         \n",
      "=================================================================\n",
      "Total params: 245\n",
      "Trainable params: 245\n",
      "Non-trainable params: 0\n",
      "_________________________________________________________________\n"
     ]
    }
   ],
   "source": [
    "model = Sequential([\n",
    "    Dense(9, activation='relu', input_dim=10),\n",
    "    Dense(9, activation='relu'),\n",
    "    Dense(5, activation='relu'),\n",
    "    Dense(1, activation='softmax'),\n",
    "])\n",
    "\n",
    "model.compile(optimizer=\"rmsprop\", loss=\"mse\", metrics=[\"mae\", \"acc\"])\n",
    "\n",
    "model.summary()"
   ]
  },
  {
   "cell_type": "code",
   "execution_count": 58,
   "metadata": {},
   "outputs": [
    {
     "name": "stdout",
     "output_type": "stream",
     "text": [
      "Epoch 1/10\n",
      "716/716 [==============================] - 1s 836us/step - loss: 5217.1371 - mean_absolute_error: 72.1634 - acc: 0.0000e+00\n",
      "Epoch 2/10\n",
      "716/716 [==============================] - 0s 54us/step - loss: 5217.1372 - mean_absolute_error: 72.1634 - acc: 0.0000e+00\n",
      "Epoch 3/10\n",
      "716/716 [==============================] - 0s 60us/step - loss: 5217.1372 - mean_absolute_error: 72.1634 - acc: 0.0000e+00\n",
      "Epoch 4/10\n",
      "716/716 [==============================] - 0s 63us/step - loss: 5217.1373 - mean_absolute_error: 72.1634 - acc: 0.0000e+00\n",
      "Epoch 5/10\n",
      "716/716 [==============================] - 0s 63us/step - loss: 5217.1373 - mean_absolute_error: 72.1634 - acc: 0.0000e+00\n",
      "Epoch 6/10\n",
      "716/716 [==============================] - 0s 51us/step - loss: 5217.1372 - mean_absolute_error: 72.1634 - acc: 0.0000e+00\n",
      "Epoch 7/10\n",
      "716/716 [==============================] - 0s 51us/step - loss: 5217.1372 - mean_absolute_error: 72.1634 - acc: 0.0000e+00\n",
      "Epoch 8/10\n",
      "716/716 [==============================] - 0s 50us/step - loss: 5217.1372 - mean_absolute_error: 72.1634 - acc: 0.0000e+00\n",
      "Epoch 9/10\n",
      "716/716 [==============================] - 0s 51us/step - loss: 5217.1372 - mean_absolute_error: 72.1634 - acc: 0.0000e+00\n",
      "Epoch 10/10\n",
      "716/716 [==============================] - 0s 54us/step - loss: 5217.1372 - mean_absolute_error: 72.1634 - acc: 0.0000e+00\n"
     ]
    },
    {
     "data": {
      "text/plain": [
       "<keras.callbacks.History at 0x7fb260c35668>"
      ]
     },
     "execution_count": 58,
     "metadata": {},
     "output_type": "execute_result"
    }
   ],
   "source": [
    "model.fit(X_train, y_train, batch_size=32, epochs=10)"
   ]
  },
  {
   "cell_type": "code",
   "execution_count": 59,
   "metadata": {},
   "outputs": [
    {
     "name": "stdout",
     "output_type": "stream",
     "text": [
      "307/307 [==============================] - 0s 387us/step\n"
     ]
    },
    {
     "data": {
      "text/plain": [
       "[5297.123059598941, 72.71386107404379, 0.0]"
      ]
     },
     "execution_count": 59,
     "metadata": {},
     "output_type": "execute_result"
    }
   ],
   "source": [
    "model.evaluate(X_test, y_test)"
   ]
  },
  {
   "cell_type": "code",
   "execution_count": 60,
   "metadata": {},
   "outputs": [
    {
     "data": {
      "text/plain": [
       "array([[1.],\n",
       "       [1.],\n",
       "       [1.],\n",
       "       [1.],\n",
       "       [1.],\n",
       "       [1.],\n",
       "       [1.],\n",
       "       [1.],\n",
       "       [1.],\n",
       "       [1.],\n",
       "       [1.],\n",
       "       [1.],\n",
       "       [1.],\n",
       "       [1.],\n",
       "       [1.],\n",
       "       [1.],\n",
       "       [1.],\n",
       "       [1.],\n",
       "       [1.],\n",
       "       [1.],\n",
       "       [1.],\n",
       "       [1.],\n",
       "       [1.],\n",
       "       [1.],\n",
       "       [1.],\n",
       "       [1.],\n",
       "       [1.],\n",
       "       [1.],\n",
       "       [1.],\n",
       "       [1.],\n",
       "       [1.],\n",
       "       [1.],\n",
       "       [1.],\n",
       "       [1.],\n",
       "       [1.],\n",
       "       [1.],\n",
       "       [1.],\n",
       "       [1.],\n",
       "       [1.],\n",
       "       [1.],\n",
       "       [1.],\n",
       "       [1.],\n",
       "       [1.],\n",
       "       [1.],\n",
       "       [1.],\n",
       "       [1.],\n",
       "       [1.],\n",
       "       [1.],\n",
       "       [1.],\n",
       "       [1.],\n",
       "       [1.],\n",
       "       [1.],\n",
       "       [1.],\n",
       "       [1.],\n",
       "       [1.],\n",
       "       [1.],\n",
       "       [1.],\n",
       "       [1.],\n",
       "       [1.],\n",
       "       [1.],\n",
       "       [1.],\n",
       "       [1.],\n",
       "       [1.],\n",
       "       [1.],\n",
       "       [1.],\n",
       "       [1.],\n",
       "       [1.],\n",
       "       [1.],\n",
       "       [1.],\n",
       "       [1.],\n",
       "       [1.],\n",
       "       [1.],\n",
       "       [1.],\n",
       "       [1.],\n",
       "       [1.],\n",
       "       [1.],\n",
       "       [1.],\n",
       "       [1.],\n",
       "       [1.],\n",
       "       [1.],\n",
       "       [1.],\n",
       "       [1.],\n",
       "       [1.],\n",
       "       [1.],\n",
       "       [1.],\n",
       "       [1.],\n",
       "       [1.],\n",
       "       [1.],\n",
       "       [1.],\n",
       "       [1.],\n",
       "       [1.],\n",
       "       [1.],\n",
       "       [1.],\n",
       "       [1.],\n",
       "       [1.],\n",
       "       [1.],\n",
       "       [1.],\n",
       "       [1.],\n",
       "       [1.],\n",
       "       [1.],\n",
       "       [1.],\n",
       "       [1.],\n",
       "       [1.],\n",
       "       [1.],\n",
       "       [1.],\n",
       "       [1.],\n",
       "       [1.],\n",
       "       [1.],\n",
       "       [1.],\n",
       "       [1.],\n",
       "       [1.],\n",
       "       [1.],\n",
       "       [1.],\n",
       "       [1.],\n",
       "       [1.],\n",
       "       [1.],\n",
       "       [1.],\n",
       "       [1.],\n",
       "       [1.],\n",
       "       [1.],\n",
       "       [1.],\n",
       "       [1.],\n",
       "       [1.],\n",
       "       [1.],\n",
       "       [1.],\n",
       "       [1.],\n",
       "       [1.],\n",
       "       [1.],\n",
       "       [1.],\n",
       "       [1.],\n",
       "       [1.],\n",
       "       [1.],\n",
       "       [1.],\n",
       "       [1.],\n",
       "       [1.],\n",
       "       [1.],\n",
       "       [1.],\n",
       "       [1.],\n",
       "       [1.],\n",
       "       [1.],\n",
       "       [1.],\n",
       "       [1.],\n",
       "       [1.],\n",
       "       [1.],\n",
       "       [1.],\n",
       "       [1.],\n",
       "       [1.],\n",
       "       [1.],\n",
       "       [1.],\n",
       "       [1.],\n",
       "       [1.],\n",
       "       [1.],\n",
       "       [1.],\n",
       "       [1.],\n",
       "       [1.],\n",
       "       [1.],\n",
       "       [1.],\n",
       "       [1.],\n",
       "       [1.],\n",
       "       [1.],\n",
       "       [1.],\n",
       "       [1.],\n",
       "       [1.],\n",
       "       [1.],\n",
       "       [1.],\n",
       "       [1.],\n",
       "       [1.],\n",
       "       [1.],\n",
       "       [1.],\n",
       "       [1.],\n",
       "       [1.],\n",
       "       [1.],\n",
       "       [1.],\n",
       "       [1.],\n",
       "       [1.],\n",
       "       [1.],\n",
       "       [1.],\n",
       "       [1.],\n",
       "       [1.],\n",
       "       [1.],\n",
       "       [1.],\n",
       "       [1.],\n",
       "       [1.],\n",
       "       [1.],\n",
       "       [1.],\n",
       "       [1.],\n",
       "       [1.],\n",
       "       [1.],\n",
       "       [1.],\n",
       "       [1.],\n",
       "       [1.],\n",
       "       [1.],\n",
       "       [1.],\n",
       "       [1.],\n",
       "       [1.],\n",
       "       [1.],\n",
       "       [1.],\n",
       "       [1.],\n",
       "       [1.],\n",
       "       [1.],\n",
       "       [1.],\n",
       "       [1.],\n",
       "       [1.],\n",
       "       [1.],\n",
       "       [1.],\n",
       "       [1.],\n",
       "       [1.],\n",
       "       [1.],\n",
       "       [1.],\n",
       "       [1.],\n",
       "       [1.],\n",
       "       [1.],\n",
       "       [1.],\n",
       "       [1.],\n",
       "       [1.],\n",
       "       [1.],\n",
       "       [1.],\n",
       "       [1.],\n",
       "       [1.],\n",
       "       [1.],\n",
       "       [1.],\n",
       "       [1.],\n",
       "       [1.],\n",
       "       [1.],\n",
       "       [1.],\n",
       "       [1.],\n",
       "       [1.],\n",
       "       [1.],\n",
       "       [1.],\n",
       "       [1.],\n",
       "       [1.],\n",
       "       [1.],\n",
       "       [1.],\n",
       "       [1.],\n",
       "       [1.],\n",
       "       [1.],\n",
       "       [1.],\n",
       "       [1.],\n",
       "       [1.],\n",
       "       [1.],\n",
       "       [1.],\n",
       "       [1.],\n",
       "       [1.],\n",
       "       [1.],\n",
       "       [1.],\n",
       "       [1.],\n",
       "       [1.],\n",
       "       [1.],\n",
       "       [1.],\n",
       "       [1.],\n",
       "       [1.],\n",
       "       [1.],\n",
       "       [1.],\n",
       "       [1.],\n",
       "       [1.],\n",
       "       [1.],\n",
       "       [1.],\n",
       "       [1.],\n",
       "       [1.],\n",
       "       [1.],\n",
       "       [1.],\n",
       "       [1.],\n",
       "       [1.],\n",
       "       [1.],\n",
       "       [1.],\n",
       "       [1.],\n",
       "       [1.],\n",
       "       [1.],\n",
       "       [1.],\n",
       "       [1.],\n",
       "       [1.],\n",
       "       [1.],\n",
       "       [1.],\n",
       "       [1.],\n",
       "       [1.],\n",
       "       [1.],\n",
       "       [1.],\n",
       "       [1.],\n",
       "       [1.],\n",
       "       [1.],\n",
       "       [1.],\n",
       "       [1.],\n",
       "       [1.],\n",
       "       [1.],\n",
       "       [1.],\n",
       "       [1.],\n",
       "       [1.],\n",
       "       [1.],\n",
       "       [1.],\n",
       "       [1.],\n",
       "       [1.],\n",
       "       [1.],\n",
       "       [1.],\n",
       "       [1.],\n",
       "       [1.],\n",
       "       [1.],\n",
       "       [1.],\n",
       "       [1.],\n",
       "       [1.],\n",
       "       [1.],\n",
       "       [1.],\n",
       "       [1.],\n",
       "       [1.],\n",
       "       [1.],\n",
       "       [1.],\n",
       "       [1.],\n",
       "       [1.]], dtype=float32)"
      ]
     },
     "execution_count": 60,
     "metadata": {},
     "output_type": "execute_result"
    }
   ],
   "source": [
    "y_pred = model.predict(X_test)\n",
    "y_pred"
   ]
  },
  {
   "cell_type": "code",
   "execution_count": 61,
   "metadata": {},
   "outputs": [
    {
     "data": {
      "image/png": "[encoded data removed]",
      "text/plain": [
       "<Figure size 432x288 with 1 Axes>"
      ]
     },
     "metadata": {
      "needs_background": "light"
     },
     "output_type": "display_data"
    }
   ],
   "source": [
    "import matplotlib.pyplot as plt\n",
    "plt.hist(y_pred);\n"
   ]
  },
  {
   "cell_type": "code",
   "execution_count": 62,
   "metadata": {},
   "outputs": [
    {
     "data": {
      "image/png": "[encoded data removed]",
      "text/plain": [
       "<Figure size 432x288 with 1 Axes>"
      ]
     },
     "metadata": {
      "needs_background": "light"
     },
     "output_type": "display_data"
    }
   ],
   "source": [
    "plt.hist(y_test);"
   ]
  },
  {
   "cell_type": "code",
   "execution_count": 64,
   "metadata": {},
   "outputs": [],
   "source": [
    "model.save(\"composit_mlp_10\")"
   ]
  },
  {
   "cell_type": "code",
   "execution_count": 65,
   "metadata": {},
   "outputs": [
    {
     "name": "stdout",
     "output_type": "stream",
     "text": [
      "_________________________________________________________________\n",
      "Layer (type)                 Output Shape              Param #   \n",
      "=================================================================\n",
      "dense_21 (Dense)             (None, 9)                 99        \n",
      "_________________________________________________________________\n",
      "dense_22 (Dense)             (None, 9)                 90        \n",
      "_________________________________________________________________\n",
      "dense_23 (Dense)             (None, 5)                 50        \n",
      "_________________________________________________________________\n",
      "dense_24 (Dense)             (None, 1)                 6         \n",
      "=================================================================\n",
      "Total params: 245\n",
      "Trainable params: 245\n",
      "Non-trainable params: 0\n",
      "_________________________________________________________________\n"
     ]
    }
   ],
   "source": [
    "model.summary()"
   ]
  },
  {
   "cell_type": "code",
   "execution_count": 66,
   "metadata": {},
   "outputs": [
    {
     "data": {
      "text/plain": [
       "(10,)"
      ]
     },
     "execution_count": 66,
     "metadata": {},
     "output_type": "execute_result"
    }
   ],
   "source": [
    "composit = np.array(X_test)[0]\n",
    "composit\n",
    "composit.shape"
   ]
  },
  {
   "cell_type": "code",
   "execution_count": 67,
   "metadata": {},
   "outputs": [
    {
     "data": {
      "text/plain": [
       "array([[7.00000000e+01, 2.56962025e+00, 1.91000000e+03, 8.07000000e+02,\n",
       "        1.11860000e+02, 2.22678571e+01, 2.84615385e+02, 2.10000000e+02,\n",
       "        7.00000000e+01, 3.00000000e+03]])"
      ]
     },
     "execution_count": 67,
     "metadata": {},
     "output_type": "execute_result"
    }
   ],
   "source": [
    "composit.reshape(1, 10)"
   ]
  },
  {
   "cell_type": "code",
   "execution_count": 68,
   "metadata": {},
   "outputs": [
    {
     "data": {
      "text/plain": [
       "array([[1.]], dtype=float32)"
      ]
     },
     "execution_count": 68,
     "metadata": {},
     "output_type": "execute_result"
    }
   ],
   "source": [
    "model.predict(composit.reshape(1, 10))"
   ]
  },
  {
   "cell_type": "code",
   "execution_count": 69,
   "metadata": {},
   "outputs": [
    {
     "data": {
      "text/plain": [
       "array([1., 1., 1., 1., 1., 1., 1., 1., 1., 1., 1., 1., 1., 1., 1., 1., 1.,\n",
       "       1., 1., 1., 1., 1., 1., 1., 1., 1., 1., 1., 1., 1., 1., 1., 1., 1.,\n",
       "       1., 1., 1., 1., 1., 1., 1., 1., 1., 1., 1., 1., 1., 1., 1., 1., 1.,\n",
       "       1., 1., 1., 1., 1., 1., 1., 1., 1., 1., 1., 1., 1., 1., 1., 1., 1.,\n",
       "       1., 1., 1., 1., 1., 1., 1., 1., 1., 1., 1., 1., 1., 1., 1., 1., 1.,\n",
       "       1., 1., 1., 1., 1., 1., 1., 1., 1., 1., 1., 1., 1., 1., 1., 1., 1.,\n",
       "       1., 1., 1., 1., 1., 1., 1., 1., 1., 1., 1., 1., 1., 1., 1., 1., 1.,\n",
       "       1., 1., 1., 1., 1., 1., 1., 1., 1., 1., 1., 1., 1., 1., 1., 1., 1.,\n",
       "       1., 1., 1., 1., 1., 1., 1., 1., 1., 1., 1., 1., 1., 1., 1., 1., 1.,\n",
       "       1., 1., 1., 1., 1., 1., 1., 1., 1., 1., 1., 1., 1., 1., 1., 1., 1.,\n",
       "       1., 1., 1., 1., 1., 1., 1., 1., 1., 1., 1., 1., 1., 1., 1., 1., 1.,\n",
       "       1., 1., 1., 1., 1., 1., 1., 1., 1., 1., 1., 1., 1., 1., 1., 1., 1.,\n",
       "       1., 1., 1., 1., 1., 1., 1., 1., 1., 1., 1., 1., 1., 1., 1., 1., 1.,\n",
       "       1., 1., 1., 1., 1., 1., 1., 1., 1., 1., 1., 1., 1., 1., 1., 1., 1.,\n",
       "       1., 1., 1., 1., 1., 1., 1., 1., 1., 1., 1., 1., 1., 1., 1., 1., 1.,\n",
       "       1., 1., 1., 1., 1., 1., 1., 1., 1., 1., 1., 1., 1., 1., 1., 1., 1.,\n",
       "       1., 1., 1., 1., 1., 1., 1., 1., 1., 1., 1., 1., 1., 1., 1., 1., 1.,\n",
       "       1., 1., 1., 1., 1., 1., 1., 1., 1., 1., 1., 1., 1., 1., 1., 1., 1.,\n",
       "       1.], dtype=float32)"
      ]
     },
     "execution_count": 69,
     "metadata": {},
     "output_type": "execute_result"
    }
   ],
   "source": [
    "y_pred.reshape(X_test.shape[0])"
   ]
  },
  {
   "cell_type": "code",
   "execution_count": 72,
   "metadata": {},
   "outputs": [
    {
     "data": {
      "text/plain": [
       "array([70.        , 75.81972222, 74.8167635 , 70.94187684, 74.51911906,\n",
       "       72.89537358, 75.74331481, 73.76924811, 67.53908354, 71.00180764,\n",
       "       73.94610764, 73.24146401, 71.88611568, 74.51555999, 69.68730857,\n",
       "       76.49376778, 76.52268029, 77.25419478, 72.45644746, 73.21928593,\n",
       "       79.73999927, 68.06237714, 76.8209329 , 74.27354907, 71.70219546,\n",
       "       74.77954097, 73.72639353, 72.84847516, 76.03055469, 69.36717861,\n",
       "       70.87090486, 72.01336192, 74.42904997, 68.14131393, 70.27394612,\n",
       "       69.48977348, 73.78117768, 68.70802805, 75.54776117, 76.39887496,\n",
       "       75.31229197, 75.4820758 , 75.06930293, 71.0395502 , 72.68002568,\n",
       "       78.91489672, 75.00478588, 78.        , 73.84047238, 74.07061496,\n",
       "       72.62286592, 72.81555209, 74.92555487, 76.83606341, 69.09101589,\n",
       "       75.50958476, 74.71883227, 72.97612409, 70.9732779 , 74.23665959,\n",
       "       75.15133971, 73.55043309, 75.01040085, 78.20273121, 72.03102502,\n",
       "       73.42325767, 75.82548416, 72.75995901, 66.26528996, 72.29826892,\n",
       "       76.53687543, 66.59835853, 74.91073786, 70.71353045, 78.14563277,\n",
       "       72.05508643, 69.34236247, 76.82141835, 74.44589142, 74.53658956,\n",
       "       78.62942208, 72.8545795 , 78.1433074 , 74.87177875, 79.45044756,\n",
       "       73.0440163 , 70.22107093, 74.24435417, 72.95841582, 74.41466343,\n",
       "       70.6786915 , 75.        , 72.76947322, 76.9187892 , 66.88221946,\n",
       "       73.66213164, 73.55994282, 71.33598218, 74.45665579, 73.82061739,\n",
       "       73.68999708, 75.95732857, 74.94321775, 70.10841624, 72.46139062,\n",
       "       79.16141407, 70.        , 69.92406992, 76.27080183, 71.93372294,\n",
       "       71.14225511, 72.77593018, 71.45007673, 78.87258403, 74.37023322,\n",
       "       74.14857013, 79.15446894, 72.81893584, 75.51155522, 79.86419672,\n",
       "       75.23099401, 73.38578235, 71.72913622, 72.19478208, 74.49750423,\n",
       "       68.88046796, 72.58837916, 74.56647584, 71.4160042 , 73.13718881,\n",
       "       71.5315213 , 74.27882935, 73.61340855, 78.93575708, 68.65472401,\n",
       "       78.        , 82.23759986, 73.01648889, 74.6158104 , 70.79050253,\n",
       "       79.17873212, 69.86426131, 82.68205104, 77.85628386, 76.56727766,\n",
       "       76.69082846, 74.14481621, 68.60512903, 72.81483025, 65.79384497,\n",
       "       76.69248819, 69.93395834, 78.89582593, 75.06322239, 75.10188772,\n",
       "       78.50082233, 71.92449478, 70.86645796, 76.47178847, 76.99200302,\n",
       "       74.00681617, 70.61151255, 72.32116124, 69.0488803 , 72.32558771,\n",
       "       71.92750651, 80.41986241, 76.26928882, 74.32942335, 71.86648829,\n",
       "       74.29670086, 71.29504356, 74.309704  , 70.94759156, 74.03763654,\n",
       "       70.19923402, 69.61261759, 73.34746511, 75.14748654, 75.01714788,\n",
       "       75.13460175, 72.92252666, 74.64065562, 77.10605586, 73.96101259,\n",
       "       73.59789714, 71.91525153, 74.52226586, 77.24291307, 70.77846456,\n",
       "       69.21772304, 75.91006099, 71.99869055, 75.96354347, 75.90215252,\n",
       "       77.65362272, 71.42527087, 74.72827228, 77.33630738, 74.23140815,\n",
       "       76.1715815 , 72.40361528, 77.23862808, 76.86150296, 68.18750868,\n",
       "       67.2656479 , 72.62237588, 80.9709595 , 77.66203497, 69.76483832,\n",
       "       72.03905265, 66.73384594, 78.93719924, 73.71799034, 69.68923344,\n",
       "       74.06234899, 72.3314064 , 74.06490253, 73.66933263, 73.80296677,\n",
       "       75.45459026, 71.3069924 , 74.07901873, 77.04658822, 73.33333333,\n",
       "       75.14867855, 74.82190158, 75.7055739 , 75.72691857, 75.31028725,\n",
       "       72.04695237, 77.03975046, 74.55400607, 77.21957694, 76.85005829,\n",
       "       77.21076158, 78.91448118, 70.08020957, 80.14770318, 69.4894568 ,\n",
       "       73.49374936, 72.96827073, 70.41762917, 72.1374099 , 69.04739913,\n",
       "       78.13453051, 73.19646335, 76.45211924, 72.4161637 , 74.73370365,\n",
       "       68.34253903, 70.        , 73.1871069 , 70.        , 74.50558432,\n",
       "       76.54016876, 68.2391691 , 74.04270842, 71.99306069, 65.9799905 ,\n",
       "       75.67648106, 78.69834591, 70.        , 73.96385746, 70.26600741,\n",
       "       71.76919249, 76.66382724, 72.02449386, 74.25668407, 75.9670774 ,\n",
       "       70.85451981, 76.9863365 , 74.57773447, 72.51156885, 73.56205291,\n",
       "       77.79339519, 75.9997011 , 78.47425676, 76.69922103, 73.73322085,\n",
       "       75.92942624, 78.55622376, 68.83049574, 67.45534464, 69.11576243,\n",
       "       69.07625205, 75.        , 73.17023227, 70.50591261, 79.87865658,\n",
       "       79.82864636, 69.70299432, 76.09920022, 71.16939998, 75.09585419,\n",
       "       74.61018397, 70.59446135, 75.39804552, 67.4514897 , 72.50933189,\n",
       "       74.92824737, 72.1215533 , 72.95191468, 73.55436724, 69.40597515,\n",
       "       74.62628303, 72.63698168])"
      ]
     },
     "execution_count": 72,
     "metadata": {},
     "output_type": "execute_result"
    }
   ],
   "source": [
    "np.array(y_test)"
   ]
  },
  {
   "cell_type": "code",
   "execution_count": 73,
   "metadata": {},
   "outputs": [
    {
     "data": {
      "text/html": [
       "<div>\n",
       "<style scoped>\n",
       "    .dataframe tbody tr th:only-of-type {\n",
       "        vertical-align: middle;\n",
       "    }\n",
       "\n",
       "    .dataframe tbody tr th {\n",
       "        vertical-align: top;\n",
       "    }\n",
       "\n",
       "    .dataframe thead th {\n",
       "        text-align: right;\n",
       "    }\n",
       "</style>\n",
       "<table border=\"1\" class=\"dataframe\">\n",
       "  <thead>\n",
       "    <tr style=\"text-align: right;\">\n",
       "      <th></th>\n",
       "      <th>Плотность нашивки</th>\n",
       "      <th>Соотношение матрица-наполнитель</th>\n",
       "      <th>Плотность, кг/м3</th>\n",
       "      <th>модуль упругости, ГПа</th>\n",
       "      <th>Количество отвердителя, м.%</th>\n",
       "      <th>Содержание эпоксидных групп,%_2</th>\n",
       "      <th>Температура вспышки, С_2</th>\n",
       "      <th>Поверхностная плотность, г/м2</th>\n",
       "      <th>Модуль упругости при растяжении, ГПа</th>\n",
       "      <th>Прочность при растяжении, МПа</th>\n",
       "    </tr>\n",
       "    <tr>\n",
       "      <th>ИНДЕКС 1</th>\n",
       "      <th></th>\n",
       "      <th></th>\n",
       "      <th></th>\n",
       "      <th></th>\n",
       "      <th></th>\n",
       "      <th></th>\n",
       "      <th></th>\n",
       "      <th></th>\n",
       "      <th></th>\n",
       "      <th></th>\n",
       "    </tr>\n",
       "  </thead>\n",
       "  <tbody>\n",
       "    <tr>\n",
       "      <th>6</th>\n",
       "      <td>70.0</td>\n",
       "      <td>2.56962</td>\n",
       "      <td>1910.0</td>\n",
       "      <td>807.0</td>\n",
       "      <td>111.86</td>\n",
       "      <td>22.267857</td>\n",
       "      <td>284.615385</td>\n",
       "      <td>210.0</td>\n",
       "      <td>70.0</td>\n",
       "      <td>3000.0</td>\n",
       "    </tr>\n",
       "  </tbody>\n",
       "</table>\n",
       "</div>"
      ],
      "text/plain": [
       "          Плотность нашивки  Соотношение матрица-наполнитель  \\\n",
       "ИНДЕКС 1                                                       \n",
       "6                      70.0                          2.56962   \n",
       "\n",
       "          Плотность, кг/м3  модуль упругости, ГПа  \\\n",
       "ИНДЕКС 1                                            \n",
       "6                   1910.0                  807.0   \n",
       "\n",
       "          Количество отвердителя, м.%  Содержание эпоксидных групп,%_2  \\\n",
       "ИНДЕКС 1                                                                 \n",
       "6                              111.86                        22.267857   \n",
       "\n",
       "          Температура вспышки, С_2  Поверхностная плотность, г/м2  \\\n",
       "ИНДЕКС 1                                                            \n",
       "6                       284.615385                          210.0   \n",
       "\n",
       "          Модуль упругости при растяжении, ГПа  Прочность при растяжении, МПа  \n",
       "ИНДЕКС 1                                                                       \n",
       "6                                         70.0                         3000.0  "
      ]
     },
     "execution_count": 73,
     "metadata": {},
     "output_type": "execute_result"
    }
   ],
   "source": [
    "X_test.head(1)"
   ]
  },
  {
   "cell_type": "code",
   "execution_count": 74,
   "metadata": {},
   "outputs": [
    {
     "data": {
      "text/plain": [
       "Index(['Плотность нашивки', 'Соотношение матрица-наполнитель',\n",
       "       'Плотность, кг/м3', 'модуль упругости, ГПа',\n",
       "       'Количество отвердителя, м.%', 'Содержание эпоксидных групп,%_2',\n",
       "       'Температура вспышки, С_2', 'Поверхностная плотность, г/м2',\n",
       "       'Модуль упругости при растяжении, ГПа',\n",
       "       'Прочность при растяжении, МПа'],\n",
       "      dtype='object')"
      ]
     },
     "execution_count": 74,
     "metadata": {},
     "output_type": "execute_result"
    }
   ],
   "source": [
    "X_test.columns"
   ]
  },
  {
   "cell_type": "code",
   "execution_count": 75,
   "metadata": {},
   "outputs": [
    {
     "data": {
      "text/plain": [
       "array([[7.00000000e+01, 2.56962025e+00, 1.91000000e+03, 8.07000000e+02,\n",
       "        1.11860000e+02, 2.22678571e+01, 2.84615385e+02, 2.10000000e+02,\n",
       "        7.00000000e+01, 3.00000000e+03]])"
      ]
     },
     "execution_count": 75,
     "metadata": {},
     "output_type": "execute_result"
    }
   ],
   "source": [
    "composit = np.array(X_test)[0]\n",
    "composit.shape\n",
    "composit.reshape(1,10)"
   ]
  },
  {
   "cell_type": "code",
   "execution_count": 84,
   "metadata": {},
   "outputs": [
    {
     "data": {
      "text/plain": [
       "1.0"
      ]
     },
     "execution_count": 84,
     "metadata": {},
     "output_type": "execute_result"
    }
   ],
   "source": [
    "composit_pred = model.predict(composit.reshape((1, 10)))[0][0]\n",
    "composit_pred\n"
   ]
  },
  {
   "cell_type": "code",
   "execution_count": 77,
   "metadata": {},
   "outputs": [],
   "source": [
    "model.save(\"composit_mlp\")"
   ]
  }
 ],
 "metadata": {
  "interpreter": {
   "hash": "444e1e636219f41bb1e7a31dad07864d37e9cea87a612f526842169d76c9c445"
  },
  "kernelspec": {
   "display_name": "Python 3.5.6 ('LATEST')",
   "language": "python",
   "name": "python3"
  },
  "language_info": {
   "codemirror_mode": {
    "name": "ipython",
    "version": 3
   },
   "file_extension": ".py",
   "mimetype": "text/x-python",
   "name": "python",
   "nbconvert_exporter": "python",
   "pygments_lexer": "ipython3",
   "version": "3.5.6"
  },
  "orig_nbformat": 4
 },
 "nbformat": 4,
 "nbformat_minor": 2
}
